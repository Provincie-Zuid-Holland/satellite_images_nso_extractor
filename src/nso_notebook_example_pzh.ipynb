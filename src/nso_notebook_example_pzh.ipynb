{
 "cells": [
  {
   "cell_type": "code",
   "execution_count": 1,
   "metadata": {},
   "outputs": [],
   "source": [
    "import satellite_images_nso.api.nso_georegion as nso"
   ]
  },
  {
   "cell_type": "markdown",
   "metadata": {},
   "source": [
    "# Search for satellite images in geojson and download links"
   ]
  },
  {
   "cell_type": "code",
   "execution_count": 14,
   "metadata": {
    "scrolled": true
   },
   "outputs": [],
   "source": [
    "# give path to geojson en output,!!!!! rewrite these directories to your file system!!!!\n",
    "path_geojson = \"C:/repos/github/satellite_images_nso/input_data/ortho_wgs.geojson\"\n",
    "output_path = \"C:/repos/github/satellite_images_nso/output\"\n",
    "\n",
    "nso_username = 'micwin'\n",
    "nso_password = 'PlfcJr6fRqj84w=='\n",
    "\n",
    "# This method fetches all the download links to all the satelliet images which contain region in the geojson\n",
    "georegion = nso.nso_georegion(path_geojson,output_path,\\\n",
    "                              nso_username,\\\n",
    "                            nso_password)"
   ]
  },
  {
   "cell_type": "code",
   "execution_count": 3,
   "metadata": {},
   "outputs": [],
   "source": [
    "links = georegion.retrieve_download_links()"
   ]
  },
  {
   "cell_type": "code",
   "execution_count": 4,
   "metadata": {
    "collapsed": true
   },
   "outputs": [
    {
     "data": {
      "text/plain": [
       "['https://api.satellietdataportaal.nl/v1/download/Tri_ruw/20180423_094807_Tri',\n",
       " 'https://api.satellietdataportaal.nl/v1/download/Spot67_RD_8bit_RGB_150cm/20140611_102721_142_Sp6',\n",
       " 'https://api.satellietdataportaal.nl/v1/download/Spot67_RD_8bit_RGB_150cm/20141210_102814_325_Sp6',\n",
       " 'https://api.satellietdataportaal.nl/v1/download/Spot67_RD_8bit_RGB_150cm/20140904_102422_264_Sp6',\n",
       " 'https://api.satellietdataportaal.nl/v1/download/Spot67_RD_8bit_RGB_150cm/20150414_101507_129_Sp6',\n",
       " 'https://api.satellietdataportaal.nl/v1/download/Spot67_RD_8bit_RGB_150cm/20150611_102001_91_Sp6',\n",
       " 'https://api.satellietdataportaal.nl/v1/download/Tri_RD_12bit_RGBI_320cm/20180726_093749_Tri',\n",
       " 'https://api.satellietdataportaal.nl/v1/download/Tri_ruw/20180726_093749_Tri',\n",
       " 'https://api.satellietdataportaal.nl/v1/download/Tri_RD_8bit_RGB_80cm/20180726_093749_Tri',\n",
       " 'https://api.satellietdataportaal.nl/v1/download/Tri_RD_12bit_RGBI_80cm/20180726_093749_Tri',\n",
       " 'https://api.satellietdataportaal.nl/v1/download/SV_ruw/20190601_105844_SV1-04',\n",
       " 'https://api.satellietdataportaal.nl/v1/download/SV_RD_11bit_RGBI_200cm/20190601_105844_SV1-04',\n",
       " 'https://api.satellietdataportaal.nl/v1/download/SV_RD_11bit_RGBI_50cm/20190601_105844_SV1-04',\n",
       " 'https://api.satellietdataportaal.nl/v1/download/SV_RD_8bit_RGB_50cm/20190601_105844_SV1-04',\n",
       " 'https://api.satellietdataportaal.nl/v1/download/Tri_RD_12bit_RGBI_320cm/20180705_093410_Tri',\n",
       " 'https://api.satellietdataportaal.nl/v1/download/Tri_ruw/20180705_093410_Tri',\n",
       " 'https://api.satellietdataportaal.nl/v1/download/Tri_RD_8bit_RGB_80cm/20180705_093410_Tri',\n",
       " 'https://api.satellietdataportaal.nl/v1/download/Tri_RD_12bit_RGBI_80cm/20180705_093410_Tri',\n",
       " 'https://api.satellietdataportaal.nl/v1/download/Tri_RD_8bit_RGB_80cm/3SAT_2_20170825_000FFAVI_005_RD_8bit_RGB_0.8m',\n",
       " 'https://api.satellietdataportaal.nl/v1/download/Tri_RD_12bit_RGBI_80cm/3SAT_2_20170825_000FFAVI_005_RD_8bit_RGB_0.8m',\n",
       " 'https://api.satellietdataportaal.nl/v1/download/Spot67_RD_8bit_RGB_150cm/20140518_101222_185_Sp6',\n",
       " 'https://api.satellietdataportaal.nl/v1/download/Tri_ruw/20170515_091817_Tri',\n",
       " 'https://api.satellietdataportaal.nl/v1/download/Tri_RD_8bit_RGB_80cm/20170515_091817_Tri',\n",
       " 'https://api.satellietdataportaal.nl/v1/download/SV_ruw/20190308_111644_SV1-01',\n",
       " 'https://api.satellietdataportaal.nl/v1/download/SV_RD_11bit_RGBI_200cm/20190308_111644_SV1-01',\n",
       " 'https://api.satellietdataportaal.nl/v1/download/SV_RD_11bit_RGBI_50cm/20190308_111644_SV1-01',\n",
       " 'https://api.satellietdataportaal.nl/v1/download/SV_RD_8bit_RGB_50cm/20190308_111644_SV1-01',\n",
       " 'https://api.satellietdataportaal.nl/v1/download/Tri_RD_8bit_RGB_80cm/3SAT_1_20170710_0010A3VI_006_RD_8bit_RGB_0.8m',\n",
       " 'https://api.satellietdataportaal.nl/v1/download/Tri_RD_12bit_RGBI_80cm/3SAT_1_20170710_0010A3VI_006_RD_8bit_RGB_0.8m',\n",
       " 'https://api.satellietdataportaal.nl/v1/download/Tri_RD_12bit_RGBI_320cm/20180506_093529_Tri',\n",
       " 'https://api.satellietdataportaal.nl/v1/download/Tri_ruw/20180506_093529_Tri',\n",
       " 'https://api.satellietdataportaal.nl/v1/download/Tri_RD_8bit_RGB_80cm/20180506_093529_Tri',\n",
       " 'https://api.satellietdataportaal.nl/v1/download/Tri_RD_12bit_RGBI_80cm/20180506_093529_Tri',\n",
       " 'https://api.satellietdataportaal.nl/v1/download/Tri_RD_12bit_RGBI_320cm/20180927_095151_Tri',\n",
       " 'https://api.satellietdataportaal.nl/v1/download/Tri_ruw/20180927_095151_Tri',\n",
       " 'https://api.satellietdataportaal.nl/v1/download/Tri_RD_8bit_RGB_80cm/20180927_095151_Tri',\n",
       " 'https://api.satellietdataportaal.nl/v1/download/Tri_RD_12bit_RGBI_80cm/20180927_095151_Tri',\n",
       " 'https://api.satellietdataportaal.nl/v1/download/Tri_RD_8bit_RGB_80cm/3SAT_1_20170903_001270VI_005_RD_8bit_RGB_0.8m',\n",
       " 'https://api.satellietdataportaal.nl/v1/download/Tri_RD_12bit_RGBI_80cm/3SAT_1_20170903_001270VI_005_RD_8bit_RGB_0.8m',\n",
       " 'https://api.satellietdataportaal.nl/v1/download/SV_ruw/20190302_105829_SV1-01',\n",
       " 'https://api.satellietdataportaal.nl/v1/download/SV_RD_11bit_RGBI_200cm/20190302_105829_SV1-01',\n",
       " 'https://api.satellietdataportaal.nl/v1/download/SV_RD_11bit_RGBI_50cm/20190302_105829_SV1-01',\n",
       " 'https://api.satellietdataportaal.nl/v1/download/SV_RD_8bit_RGB_50cm/20190302_105829_SV1-01',\n",
       " 'https://api.satellietdataportaal.nl/v1/download/SV_ruw/20190302_105726_SV1-01',\n",
       " 'https://api.satellietdataportaal.nl/v1/download/SV_RD_11bit_RGBI_200cm/20190302_105726_SV1-01',\n",
       " 'https://api.satellietdataportaal.nl/v1/download/SV_RD_11bit_RGBI_50cm/20190302_105726_SV1-01',\n",
       " 'https://api.satellietdataportaal.nl/v1/download/SV_RD_8bit_RGB_50cm/20190302_105726_SV1-01',\n",
       " 'https://api.satellietdataportaal.nl/v1/download/SV_ruw/20191130_110721_SV1-01',\n",
       " 'https://api.satellietdataportaal.nl/v1/download/SV_RD_11bit_RGBI_200cm/20191130_110721_SV1-01',\n",
       " 'https://api.satellietdataportaal.nl/v1/download/SV_RD_11bit_RGBI_50cm/20191130_110721_SV1-01',\n",
       " 'https://api.satellietdataportaal.nl/v1/download/SV_RD_8bit_RGB_50cm/20191130_110721_SV1-01',\n",
       " 'https://api.satellietdataportaal.nl/v1/download/SV_ruw/20191025_113826_SV1-02',\n",
       " 'https://api.satellietdataportaal.nl/v1/download/SV_RD_11bit_RGBI_200cm/20191025_113826_SV1-02',\n",
       " 'https://api.satellietdataportaal.nl/v1/download/SV_RD_11bit_RGBI_50cm/20191025_113826_SV1-02',\n",
       " 'https://api.satellietdataportaal.nl/v1/download/SV_RD_8bit_RGB_50cm/20191025_113826_SV1-02',\n",
       " 'https://api.satellietdataportaal.nl/v1/download/SV_ruw/20200915_112329_SV1-04',\n",
       " 'https://api.satellietdataportaal.nl/v1/download/SV_RD_11bit_RGBI_200cm/20200915_112329_SV1-04',\n",
       " 'https://api.satellietdataportaal.nl/v1/download/SV_RD_11bit_RGBI_50cm/20200915_112329_SV1-04',\n",
       " 'https://api.satellietdataportaal.nl/v1/download/SV_RD_8bit_RGB_50cm/20200915_112329_SV1-04',\n",
       " 'https://api.satellietdataportaal.nl/v1/download/SV_ruw/20201231_105943_SV1-01',\n",
       " 'https://api.satellietdataportaal.nl/v1/download/SV_RD_11bit_RGBI_200cm/20201231_105943_SV1-01',\n",
       " 'https://api.satellietdataportaal.nl/v1/download/SV_RD_11bit_RGBI_50cm/20201231_105943_SV1-01',\n",
       " 'https://api.satellietdataportaal.nl/v1/download/SV_RD_8bit_RGB_50cm/20201231_105943_SV1-01',\n",
       " 'https://api.satellietdataportaal.nl/v1/download/SV_ruw/20210709_103835_SV1-01',\n",
       " 'https://api.satellietdataportaal.nl/v1/download/SV_RD_11bit_RGBI_200cm/20210709_103835_SV1-01',\n",
       " 'https://api.satellietdataportaal.nl/v1/download/SV_RD_11bit_RGBI_50cm/20210709_103835_SV1-01',\n",
       " 'https://api.satellietdataportaal.nl/v1/download/SV_RD_8bit_RGB_50cm/20210709_103835_SV1-01',\n",
       " 'https://api.satellietdataportaal.nl/v1/download/Tri_RD_12bit_RGBI_320cm/20180907_094116_Tri',\n",
       " 'https://api.satellietdataportaal.nl/v1/download/Tri_ruw/20180907_094116_Tri',\n",
       " 'https://api.satellietdataportaal.nl/v1/download/Tri_RD_8bit_RGB_80cm/20180907_094116_Tri',\n",
       " 'https://api.satellietdataportaal.nl/v1/download/Tri_RD_12bit_RGBI_80cm/20180907_094116_Tri',\n",
       " 'https://api.satellietdataportaal.nl/v1/download/SV_ruw/20190721_112303_SV1-04',\n",
       " 'https://api.satellietdataportaal.nl/v1/download/SV_RD_11bit_RGBI_200cm/20190721_112303_SV1-04',\n",
       " 'https://api.satellietdataportaal.nl/v1/download/SV_RD_11bit_RGBI_50cm/20190721_112303_SV1-04',\n",
       " 'https://api.satellietdataportaal.nl/v1/download/SV_RD_8bit_RGB_50cm/20190721_112303_SV1-04',\n",
       " 'https://api.satellietdataportaal.nl/v1/download/SV_ruw/20190422_111335_SV1-01',\n",
       " 'https://api.satellietdataportaal.nl/v1/download/SV_RD_11bit_RGBI_200cm/20190422_111335_SV1-01',\n",
       " 'https://api.satellietdataportaal.nl/v1/download/SV_RD_11bit_RGBI_50cm/20190422_111335_SV1-01',\n",
       " 'https://api.satellietdataportaal.nl/v1/download/SV_RD_8bit_RGB_50cm/20190422_111335_SV1-01',\n",
       " 'https://api.satellietdataportaal.nl/v1/download/SV_ruw/20200304_114601_SV1-02',\n",
       " 'https://api.satellietdataportaal.nl/v1/download/SV_RD_11bit_RGBI_200cm/20200304_114601_SV1-02',\n",
       " 'https://api.satellietdataportaal.nl/v1/download/SV_RD_11bit_RGBI_50cm/20200304_114601_SV1-02',\n",
       " 'https://api.satellietdataportaal.nl/v1/download/SV_RD_8bit_RGB_50cm/20200304_114601_SV1-02',\n",
       " 'https://api.satellietdataportaal.nl/v1/download/SV_ruw/20200326_114323_SV1-02',\n",
       " 'https://api.satellietdataportaal.nl/v1/download/SV_RD_11bit_RGBI_200cm/20200326_114323_SV1-02',\n",
       " 'https://api.satellietdataportaal.nl/v1/download/SV_RD_11bit_RGBI_50cm/20200326_114323_SV1-02',\n",
       " 'https://api.satellietdataportaal.nl/v1/download/SV_RD_8bit_RGB_50cm/20200326_114323_SV1-02',\n",
       " 'https://api.satellietdataportaal.nl/v1/download/SV_ruw/20210815_111051_SV1-03',\n",
       " 'https://api.satellietdataportaal.nl/v1/download/SV_RD_11bit_RGBI_200cm/20210815_111051_SV1-03',\n",
       " 'https://api.satellietdataportaal.nl/v1/download/SV_RD_11bit_RGBI_50cm/20210815_111051_SV1-03',\n",
       " 'https://api.satellietdataportaal.nl/v1/download/SV_RD_8bit_RGB_50cm/20210815_111051_SV1-03',\n",
       " 'https://api.satellietdataportaal.nl/v1/download/SV_ruw/20200731_112003_SV1-03',\n",
       " 'https://api.satellietdataportaal.nl/v1/download/SV_RD_11bit_RGBI_200cm/20200731_112003_SV1-03',\n",
       " 'https://api.satellietdataportaal.nl/v1/download/SV_RD_11bit_RGBI_50cm/20200731_112003_SV1-03',\n",
       " 'https://api.satellietdataportaal.nl/v1/download/SV_RD_8bit_RGB_50cm/20200731_112003_SV1-03',\n",
       " 'https://api.satellietdataportaal.nl/v1/download/SV_ruw/20200625_112015_SV1-03',\n",
       " 'https://api.satellietdataportaal.nl/v1/download/SV_RD_11bit_RGBI_200cm/20200625_112015_SV1-03',\n",
       " 'https://api.satellietdataportaal.nl/v1/download/SV_RD_11bit_RGBI_50cm/20200625_112015_SV1-03',\n",
       " 'https://api.satellietdataportaal.nl/v1/download/SV_RD_8bit_RGB_50cm/20200625_112015_SV1-03',\n",
       " 'https://api.satellietdataportaal.nl/v1/download/SV_ruw/20210302_111247_SV1-03',\n",
       " 'https://api.satellietdataportaal.nl/v1/download/SV_RD_11bit_RGBI_200cm/20210302_111247_SV1-03',\n",
       " 'https://api.satellietdataportaal.nl/v1/download/SV_RD_11bit_RGBI_50cm/20210302_111247_SV1-03',\n",
       " 'https://api.satellietdataportaal.nl/v1/download/SV_RD_8bit_RGB_50cm/20210302_111247_SV1-03',\n",
       " 'https://api.satellietdataportaal.nl/v1/download/SV_ruw/20200311_110841_SV1-01',\n",
       " 'https://api.satellietdataportaal.nl/v1/download/SV_RD_11bit_RGBI_200cm/20200311_110841_SV1-01',\n",
       " 'https://api.satellietdataportaal.nl/v1/download/SV_RD_11bit_RGBI_50cm/20200311_110841_SV1-01',\n",
       " 'https://api.satellietdataportaal.nl/v1/download/SV_RD_8bit_RGB_50cm/20200311_110841_SV1-01',\n",
       " 'https://api.satellietdataportaal.nl/v1/download/SV_ruw/20200323_112115_SV1-03',\n",
       " 'https://api.satellietdataportaal.nl/v1/download/SV_RD_11bit_RGBI_200cm/20200323_112115_SV1-03',\n",
       " 'https://api.satellietdataportaal.nl/v1/download/SV_RD_11bit_RGBI_50cm/20200323_112115_SV1-03',\n",
       " 'https://api.satellietdataportaal.nl/v1/download/SV_RD_8bit_RGB_50cm/20200323_112115_SV1-03',\n",
       " 'https://api.satellietdataportaal.nl/v1/download/Spot67_RD_8bit_RGB_150cm/20150711_103733_141_Sp6',\n",
       " 'https://api.satellietdataportaal.nl/v1/download/Spot67_RD_8bit_RGB_150cm/20150911_101049_214_Sp6',\n",
       " 'https://api.satellietdataportaal.nl/v1/download/Spot67_RD_8bit_RGB_150cm/20160117_102634_231_Sp6',\n",
       " 'https://api.satellietdataportaal.nl/v1/download/Spot67_RD_8bit_RGB_150cm/20151204_101646_137_Sp6',\n",
       " 'https://api.satellietdataportaal.nl/v1/download/Spot67_RD_8bit_RGB_150cm/20161023_102417_283_Sp6',\n",
       " 'https://api.satellietdataportaal.nl/v1/download/Spot67_RD_8bit_RGB_150cm/20160818_103151_17_Sp6',\n",
       " 'https://api.satellietdataportaal.nl/v1/download/Spot67_RD_8bit_RGB_150cm/20160505_103856_34_Sp6',\n",
       " 'https://api.satellietdataportaal.nl/v1/download/Spot67_RD_8bit_RGB_150cm/20160908_101953_41_Sp6',\n",
       " 'https://api.satellietdataportaal.nl/v1/download/Tri_RD_12bit_RGBI_320cm/20180406_095148_Tri',\n",
       " 'https://api.satellietdataportaal.nl/v1/download/Tri_ruw/20180406_095148_Tri',\n",
       " 'https://api.satellietdataportaal.nl/v1/download/Tri_RD_8bit_RGB_80cm/20180406_095148_Tri',\n",
       " 'https://api.satellietdataportaal.nl/v1/download/Tri_RD_12bit_RGBI_80cm/20180406_095148_Tri',\n",
       " 'https://api.satellietdataportaal.nl/v1/download/SV_ruw/20191202_110525_SV1-04',\n",
       " 'https://api.satellietdataportaal.nl/v1/download/SV_RD_11bit_RGBI_200cm/20191202_110525_SV1-04',\n",
       " 'https://api.satellietdataportaal.nl/v1/download/SV_RD_11bit_RGBI_50cm/20191202_110525_SV1-04',\n",
       " 'https://api.satellietdataportaal.nl/v1/download/SV_RD_8bit_RGB_50cm/20191202_110525_SV1-04',\n",
       " 'https://api.satellietdataportaal.nl/v1/download/SV_ruw/20200508_110812_SV1-01',\n",
       " 'https://api.satellietdataportaal.nl/v1/download/SV_RD_11bit_RGBI_200cm/20200508_110812_SV1-01',\n",
       " 'https://api.satellietdataportaal.nl/v1/download/SV_RD_11bit_RGBI_50cm/20200508_110812_SV1-01',\n",
       " 'https://api.satellietdataportaal.nl/v1/download/SV_RD_8bit_RGB_50cm/20200508_110812_SV1-01',\n",
       " 'https://api.satellietdataportaal.nl/v1/download/SV_ruw/20210423_104948_SV1-01',\n",
       " 'https://api.satellietdataportaal.nl/v1/download/SV_RD_11bit_RGBI_200cm/20210423_104948_SV1-01',\n",
       " 'https://api.satellietdataportaal.nl/v1/download/SV_RD_11bit_RGBI_50cm/20210423_104948_SV1-01',\n",
       " 'https://api.satellietdataportaal.nl/v1/download/SV_RD_8bit_RGB_50cm/20210423_104948_SV1-01']"
      ]
     },
     "execution_count": 4,
     "metadata": {},
     "output_type": "execute_result"
    }
   ],
   "source": [
    "links"
   ]
  },
  {
   "cell_type": "markdown",
   "metadata": {},
   "source": [
    "# Crop and calculate NDVI"
   ]
  },
  {
   "cell_type": "markdown",
   "metadata": {},
   "source": [
    "## For a specific image"
   ]
  },
  {
   "cell_type": "code",
   "execution_count": null,
   "metadata": {},
   "outputs": [
    {
     "name": "stdout",
     "output_type": "stream",
     "text": [
      "Starting download to: C:/repos/github/satellite_images_nso/output/20180423_094807_Tri_Tri_ruw.zip\n",
      "Downloading file: https://api.satellietdataportaal.nl/v1/download/Tri_ruw/20180423_094807_Tri\n"
     ]
    }
   ],
   "source": [
    "# Downloads a satellite image from the NSO, makes a crop out of it so it fits the geojson region and calculates the NVDI index.\n",
    "# The output will stored in the designated output folder.\n",
    "\n",
    "image = links[0]\n",
    "georegion.execute_link(image)\n",
    "\n",
    "# The parameters are : execute_link(self, link, delete_zip_file = False,delete_source_files = True, \n",
    "# check_if_file_exists = True)"
   ]
  },
  {
   "cell_type": "markdown",
   "metadata": {},
   "source": [
    "## For a group of images "
   ]
  },
  {
   "cell_type": "code",
   "execution_count": null,
   "metadata": {},
   "outputs": [],
   "source": [
    "# loop through and download all the 200cm resolution SuperView images\n",
    "for link in links:\n",
    "    if 'SV' in link and '200cm' in link:\n",
    "        print(link)\n",
    "        try:\n",
    "            georegion.execute_link(link)\n",
    "        except Exception as e:\n",
    "            print(e)"
   ]
  },
  {
   "cell_type": "code",
   "execution_count": null,
   "metadata": {
    "scrolled": false
   },
   "outputs": [],
   "source": [
    "# loop through and download all the 200cm Trisat images\n",
    "for link in links:\n",
    "    if 'Tri' in link and \"80cm\" in link and \"8bit\" in link:\n",
    "        try:\n",
    "            georegion.execute_link(link)\n",
    "        except Exception as e:\n",
    "            print(e)"
   ]
  },
  {
   "cell_type": "markdown",
   "metadata": {},
   "source": [
    "## Multi date relative normalisation."
   ]
  },
  {
   "cell_type": "code",
   "execution_count": 1,
   "metadata": {},
   "outputs": [
    {
     "name": "stdout",
     "output_type": "stream",
     "text": [
      "-------- Multi-date Relative Normalisation for file: \n",
      "C:/repos/github/satellite_images_nso/output/20190401_111723_SV1-04_200cm_RD_11bit_RGBI_DenHaag_solleveld_sweco_cropped.tif\n",
      "Saving file to:\n",
      "C:/repos/github/satellite_images_nso/output/20190401_111723_SV1-04_200cm_RD_11bit_RGBI_DenHaag_solleveld_sweco_cropped_Spring_normalised.tif\n"
     ]
    },
    {
     "data": {
      "text/plain": [
       "<Figure size 1400x700 with 2 Axes>"
      ]
     },
     "metadata": {},
     "output_type": "display_data"
    }
   ],
   "source": [
    "# Imports the normalisation library.\n",
    "from satellite_images_nso.__normalisation import normalisation\n",
    "\n",
    "# Path to a Superview satellite image.\n",
    "path = \"20190401_111723_SV1-04_200cm_RD_11bit_RGBI_DenHaag_solleveld_sweco_cropped.tif\"\n",
    "\n",
    "\n",
    "normalisation.multidate_normalisation_75th_percentile(path)\n"
   ]
  },
  {
   "cell_type": "markdown",
   "metadata": {},
   "source": [
    "## Black spot normalisation."
   ]
  },
  {
   "cell_type": "code",
   "execution_count": null,
   "metadata": {},
   "outputs": [],
   "source": [
    "from satellite_images_nso.__normalisation import normalisation"
   ]
  },
  {
   "cell_type": "code",
   "execution_count": null,
   "metadata": {},
   "outputs": [],
   "source": [
    "path = \"C:/repos/github/satellite_images_nso/data_satellite/20210302_111341_SV1-03_SV_RD_11bit_RGBI_200cm_Brouwersdam_Grevelingen_21_cropped.tif\""
   ]
  },
  {
   "cell_type": "code",
   "execution_count": 8,
   "metadata": {},
   "outputs": [
    {
     "name": "stdout",
     "output_type": "stream",
     "text": [
      "Using local coefficients\n",
      "-------- Dark Spot Normalisation for file: \n",
      "C:/repos/github/satellite_images_nso/data_satellite/20210302_111341_SV1-03_SV_RD_11bit_RGBI_200cm_Brouwersdam_Grevelingen_21_cropped.tif\n",
      "20210302\n",
      "105 153 91 64\n",
      "Saving file to:\n",
      "C:/repos/github/satellite_images_nso/data_satellite/20210302_111341_SV1-03_SV_RD_11bit_RGBI_200cm_Brouwersdam_Grevelingen_21_cropped_dark_point_normalised.tif\n"
     ]
    },
    {
     "data": {
      "image/png": "[encoded data removed]",
      "text/plain": [
       "<Figure size 1008x504 with 2 Axes>"
      ]
     },
     "metadata": {
      "needs_background": "light"
     },
     "output_type": "display_data"
    }
   ],
   "source": [
    "normalisation.multi_date_dark_spot_normalisation(path,\"20210302\")"
   ]
  },
  {
   "cell_type": "markdown",
   "metadata": {},
   "source": [
    "# Other functionalities"
   ]
  },
  {
   "cell_type": "code",
   "execution_count": null,
   "metadata": {},
   "outputs": [],
   "source": [
    "# The sat_manipulator gives other handy transmations on satellite data.\n",
    "import satellite_images_nso.api.sat_manipulator as sat_manipulator\n",
    "\n",
    "# This function reads a .tif file, which is a format the satellite data is stored in,  and converts it to a pixel based geopandas dataframe.\n",
    "# For machine learning purposes.\n",
    "path_to_vector = \"path/to/folder/*.tif\"\n",
    "geo_df_pixel = sat_manipulator.tranform_vector_to_pixel_gpdf(path_to_vector)"
   ]
  }
 ],
 "metadata": {
  "interpreter": {
   "hash": "b3ba2566441a7c06988d0923437866b63cedc61552a5af99d1f4fb67d367b25f"
  },
  "kernelspec": {
   "display_name": "Python 3",
   "language": "python",
   "name": "python3"
  },
  "language_info": {
   "codemirror_mode": {
    "name": "ipython",
    "version": 3
   },
   "file_extension": ".py",
   "mimetype": "text/x-python",
   "name": "python",
   "nbconvert_exporter": "python",
   "pygments_lexer": "ipython3",
   "version": "3.7.4"
  }
 },
 "nbformat": 4,
 "nbformat_minor": 2
}
