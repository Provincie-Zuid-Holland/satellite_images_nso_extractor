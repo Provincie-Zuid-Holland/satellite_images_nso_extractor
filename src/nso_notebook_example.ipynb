{
 "cells": [
  {
   "cell_type": "code",
   "execution_count": null,
   "source": [
    "import satellite_images_nso.api.nso_georegion as nso\r\n",
    "import getpass\r\n",
    "\r\n",
    "# get credentials\r\n",
    "nso_username = getpass.getpass(prompt='username:')\r\n",
    "nso_password = getpass.getpass(prompt='password:')"
   ],
   "outputs": [],
   "metadata": {}
  },
  {
   "cell_type": "markdown",
   "source": [
    "# Search for satellite images in geojson and download links"
   ],
   "metadata": {}
  },
  {
   "cell_type": "code",
   "execution_count": null,
   "source": [
    "# give path to geojson en output\r\n",
    "path_geojson = \"C:/Repos/satellite_images/map.geojson\"\r\n",
    "output_path = \"C:/Repos/satellite_images/output_pip_package/\"\r\n",
    "\r\n",
    "# This method fetches all the download links to all the satelliet images which contain region in the geojson\r\n",
    "georegion = nso.nso_georegion(path_geojson,output_path,\\\r\n",
    "***REMOVED***nso_username,\\\r\n",
    "                            nso_password)"
   ],
   "outputs": [],
   "metadata": {
    "scrolled": true
   }
  },
  {
   "cell_type": "code",
   "execution_count": null,
   "source": [
    "georegion"
   ],
   "outputs": [],
   "metadata": {
    "scrolled": true
   }
  },
  {
   "cell_type": "code",
   "execution_count": null,
   "source": [
    "links = georegion.retrieve_download_links()"
   ],
   "outputs": [],
   "metadata": {}
  },
  {
   "cell_type": "code",
   "execution_count": null,
   "source": [
    "links"
   ],
   "outputs": [],
   "metadata": {}
  },
  {
   "cell_type": "markdown",
   "source": [
    "# Crop and calculate NDVI"
   ],
   "metadata": {}
  },
  {
   "cell_type": "markdown",
   "source": [
    "## For a specific image"
   ],
   "metadata": {}
  },
  {
   "cell_type": "code",
   "execution_count": null,
   "source": [
    "# Downloads a satellite image from the NSO, makes a crop out of it so it fits the geojson region and calculates the NVDI index.\r\n",
    "# The output will stored in the designated output folder.\r\n",
    "\r\n",
    "image = 'https://api.satellietdataportaal.nl/v1/download/SV_RD_11bit_RGBI_200cm/20210302_111247_SV1-03'\r\n",
    "georegion.execute_link(image, delete_zip_file=False)\r\n",
    "\r\n",
    "# The parameters are : execute_link(self, link, delete_zip_file = False,delete_source_files = True, \r\n",
    "# check_if_file_exists = True)"
   ],
   "outputs": [],
   "metadata": {}
  },
  {
   "cell_type": "markdown",
   "source": [
    "## For a group of images "
   ],
   "metadata": {}
  },
  {
   "cell_type": "code",
   "execution_count": null,
   "source": [
    "# loop through and download all the 200cm resolution SuperView images\r\n",
    "for link in links:\r\n",
    "    if 'SV' in link and '200cm' in link:\r\n",
    "        print(link)\r\n",
    "        try:\r\n",
    "            georegion.execute_link(link)\r\n",
    "        except Exception as e:\r\n",
    "            print(e)"
   ],
   "outputs": [],
   "metadata": {}
  },
  {
   "cell_type": "code",
   "execution_count": null,
   "source": [
    "# loop through and download all the 200cm Trisat images\r\n",
    "for link in links:\r\n",
    "    if 'Tri' in link and \"80cm\" in link and \"8bit\" in link:\r\n",
    "        try:\r\n",
    "            georegion.execute_link(link)\r\n",
    "        except Exception as e:\r\n",
    "            print(e)"
   ],
   "outputs": [],
   "metadata": {
    "scrolled": false
   }
  },
  {
   "cell_type": "markdown",
   "source": [
    "# Multi date relative normalisation."
   ],
   "metadata": {}
  },
  {
   "cell_type": "code",
   "execution_count": 1,
   "source": [
    "# Imports the normalisation library.\r\n",
    "from satellite_images_nso.__normalisation import normalisation\r\n",
    "\r\n",
    "# Path to a Superview satellite image.\r\n",
    "path = \"20190401_111723_SV1-04_200cm_RD_11bit_RGBI_DenHaag_solleveld_sweco_cropped.tif\"\r\n",
    "\r\n",
    "\r\n",
    "normalisation.multidate_normalisation_75th_percentile(path)\r\n"
   ],
   "outputs": [
    {
     "output_type": "stream",
     "name": "stdout",
     "text": [
      "-------- Multi-date Relative Normalisation for file: \n",
      "C:/repos/github/satellite_images_nso/output/20190401_111723_SV1-04_200cm_RD_11bit_RGBI_DenHaag_solleveld_sweco_cropped.tif\n",
      "Saving file to:\n",
      "C:/repos/github/satellite_images_nso/output/20190401_111723_SV1-04_200cm_RD_11bit_RGBI_DenHaag_solleveld_sweco_cropped_Spring_normalised.tif\n"
     ]
    },
    {
     "output_type": "display_data",
     "data": {
      "text/plain": [
       "<Figure size 1400x700 with 2 Axes>"
      ]
     },
     "metadata": {}
    }
   ],
   "metadata": {}
  },
  {
   "cell_type": "markdown",
   "source": [
    "# Other functionalities"
   ],
   "metadata": {}
  },
  {
   "cell_type": "code",
   "execution_count": null,
   "source": [
    "# The sat_manipulator gives other handy transmations on satellite data.\r\n",
    "import satellite_images_nso.api.sat_manipulator as sat_manipulator\r\n",
    "\r\n",
    "# This function reads a .tif file, which is a format the satellite data is stored in,  and converts it to a pixel based geopandas dataframe.\r\n",
    "# For machine learning purposes.\r\n",
    "path_to_vector = \"path/to/folder/*.tif\"\r\n",
    "geo_df_pixel = sat_manipulator.tranform_vector_to_pixel_gpdf(path_to_vector)"
   ],
   "outputs": [],
   "metadata": {}
  }
 ],
 "metadata": {
  "kernelspec": {
   "name": "python3",
   "display_name": "Python 3.7.4 64-bit (conda)"
  },
  "language_info": {
   "codemirror_mode": {
    "name": "ipython",
    "version": 3
   },
   "file_extension": ".py",
   "mimetype": "text/x-python",
   "name": "python",
   "nbconvert_exporter": "python",
   "pygments_lexer": "ipython3",
   "version": "3.7.4"
  },
  "interpreter": {
   "hash": "b3ba2566441a7c06988d0923437866b63cedc61552a5af99d1f4fb67d367b25f"
  }
 },
 "nbformat": 4,
 "nbformat_minor": 2
}