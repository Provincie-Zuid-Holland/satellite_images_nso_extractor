{
 "cells": [
  {
   "cell_type": "code",
   "execution_count": 14,
   "metadata": {},
   "outputs": [],
   "source": [
    "import satellite_images_nso.api.nso_georegion as nso\n",
    "import getpass"
   ]
  },
  {
   "cell_type": "markdown",
   "metadata": {},
   "source": [
    "# Search for satellite images in geojson and download links"
   ]
  },
  {
   "cell_type": "code",
   "execution_count": null,
   "metadata": {
    "scrolled": true
   },
   "outputs": [],
   "source": [
    "# get credentials\n",
    "nso_username = getpass.getpass(prompt='username:')\n",
    "nso_password = getpass.getpass(prompt='password:')\n",
    "\n",
    "# give path to geojson en output\n",
    "path_geojson = \"C:/Repos/satellite_images/map.geojson\"\n",
    "output_path = \"C:/Repos/satellite_images/output_pip_package/\"\n",
    "\n",
    "# This method fetches all the download links to all the satelliet images which contain region in the geojson\n",
    "georegion = nso.nso_georegion(path_geojson,output_path,\\\n",
    "                              nso_username,\\\n",
    "                            nso_password)"
   ]
  },
  {
   "cell_type": "code",
   "execution_count": null,
   "metadata": {},
   "outputs": [],
   "source": [
    "links = georegion.retrieve_download_links()"
   ]
  },
  {
   "cell_type": "code",
   "execution_count": null,
   "metadata": {},
   "outputs": [],
   "source": [
    "links"
   ]
  },
  {
   "cell_type": "markdown",
   "metadata": {},
   "source": [
    "# Download, Crop and calculate NDVI for a LandSat Image"
   ]
  },
  {
   "cell_type": "markdown",
   "metadata": {},
   "source": [
    "### For a specific image"
   ]
  },
  {
   "cell_type": "code",
   "execution_count": null,
   "metadata": {},
   "outputs": [],
   "source": [
    "# Downloads a satellite image from the NSO, makes a crop out of it so it fits the geojson region and calculates the NVDI index.\n",
    "# The output will stored in the designated output folder.\n",
    "\n",
    "image = links[0]\n",
    "georegion.execute_link(image, delete_zip_file=False)\n",
    "\n",
    "# The parameters are : execute_link(self, link, delete_zip_file = False,delete_source_files = True, \n",
    "# check_if_file_exists = True)"
   ]
  },
  {
   "cell_type": "markdown",
   "metadata": {},
   "source": [
    "### For a group of images "
   ]
  },
  {
   "cell_type": "code",
   "execution_count": null,
   "metadata": {},
   "outputs": [],
   "source": [
    "# loop through and download all the 200cm resolution SuperView images\n",
    "for link in links:\n",
    "    if 'SV' in link and '200cm' in link:\n",
    "        print(link)\n",
    "        try:\n",
    "            georegion.execute_link(link)\n",
    "        except Exception as e:\n",
    "            print(e)"
   ]
  },
  {
   "cell_type": "code",
   "execution_count": null,
   "metadata": {
    "scrolled": false
   },
   "outputs": [],
   "source": [
    "# loop through and download all the 200cm Trisat images\n",
    "for link in links:\n",
    "    if 'Tri' in link and \"80cm\" in link and \"8bit\" in link:\n",
    "        try:\n",
    "            georegion.execute_link(link)\n",
    "        except Exception as e:\n",
    "            print(e)"
   ]
  },
  {
   "cell_type": "markdown",
   "metadata": {},
   "source": [
    "# Normalize LandSat image"
   ]
  },
  {
   "cell_type": "markdown",
   "metadata": {},
   "source": [
    "### Multi date relative normalisation."
   ]
  },
  {
   "cell_type": "code",
   "execution_count": 1,
   "metadata": {},
   "outputs": [
    {
     "name": "stdout",
     "output_type": "stream",
     "text": [
      "-------- Multi-date Relative Normalisation for file: \n",
      "C:/repos/github/satellite_images_nso/output/20190401_111723_SV1-04_200cm_RD_11bit_RGBI_DenHaag_solleveld_sweco_cropped.tif\n",
      "Saving file to:\n",
      "C:/repos/github/satellite_images_nso/output/20190401_111723_SV1-04_200cm_RD_11bit_RGBI_DenHaag_solleveld_sweco_cropped_Spring_normalised.tif\n"
     ]
    },
    {
     "data": {
      "text/plain": [
       "<Figure size 1400x700 with 2 Axes>"
      ]
     },
     "metadata": {},
     "output_type": "display_data"
    }
   ],
   "source": [
    "# Imports the normalisation library.\n",
    "from satellite_images_nso.__normalisation import normalisation\n",
    "\n",
    "# Path to a Superview satellite image.\n",
    "path = \"20190401_111723_SV1-04_200cm_RD_11bit_RGBI_DenHaag_solleveld_sweco_cropped.tif\"\n",
    "\n",
    "normalisation.multidate_normalisation_75th_percentile(path)"
   ]
  },
  {
   "cell_type": "markdown",
   "metadata": {},
   "source": [
    "### Black spot normalisation."
   ]
  },
  {
   "cell_type": "code",
   "execution_count": null,
   "metadata": {},
   "outputs": [],
   "source": [
    "path = \"data_satellite/20210302_111341_SV1-03_SV_RD_11bit_RGBI_200cm_Brouwersdam_Grevelingen_21_cropped.tif\""
   ]
  },
  {
   "cell_type": "code",
   "execution_count": null,
   "metadata": {},
   "outputs": [],
   "source": [
    "# The first argument here is the path to satellite image and the second is the name of the satellite image to get coefficients for, this can be filled in partially.\n",
    "normalisation.multi_date_dark_spot_normalisation(path,\"20210302\")"
   ]
  },
  {
   "cell_type": "markdown",
   "metadata": {},
   "source": [
    "# Other functionalities"
   ]
  },
  {
   "cell_type": "code",
   "execution_count": null,
   "metadata": {},
   "outputs": [],
   "source": [
    "# The sat_manipulator gives other handy transmations on satellite data.\n",
    "import satellite_images_nso.api.sat_manipulator as sat_manipulator\n",
    "\n",
    "# This function reads a .tif file, which is a format the satellite data is stored in,  and converts it to a pixel based geopandas dataframe.\n",
    "# For machine learning purposes.\n",
    "path_to_vector = \"path/to/folder/*.tif\"\n",
    "geo_df_pixel = sat_manipulator.tranform_vector_to_pixel_gpdf(path_to_vector)"
   ]
  }
 ],
 "metadata": {
  "interpreter": {
   "hash": "b3ba2566441a7c06988d0923437866b63cedc61552a5af99d1f4fb67d367b25f"
  },
  "kernelspec": {
   "display_name": "Python 3",
   "language": "python",
   "name": "python3"
  },
  "language_info": {
   "codemirror_mode": {
    "name": "ipython",
    "version": 3
   },
   "file_extension": ".py",
   "mimetype": "text/x-python",
   "name": "python",
   "nbconvert_exporter": "python",
   "pygments_lexer": "ipython3",
   "version": "3.7.4"
  }
 },
 "nbformat": 4,
 "nbformat_minor": 2
}
