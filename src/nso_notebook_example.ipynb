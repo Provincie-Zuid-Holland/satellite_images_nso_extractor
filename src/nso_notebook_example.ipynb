{
 "cells": [
  {
   "cell_type": "code",
   "execution_count": null,
   "metadata": {},
   "outputs": [],
   "source": [
    "import satellite_images_nso.api.nso_georegion as nso\n",
    "import getpass"
   ]
  },
  {
   "cell_type": "markdown",
   "metadata": {},
   "source": [
    "# Search for satellite images in geojson and download links"
   ]
  },
  {
   "cell_type": "code",
   "execution_count": null,
   "metadata": {
    "scrolled": true
   },
   "outputs": [],
   "source": [
    "# get credentials\n",
    "nso_username = getpass.getpass(prompt='username:')\n",
    "nso_password = getpass.getpass(prompt='password:')\n",
    "\n",
    "# give path to geojson en output\n",
    "path_geojson = \"C:/Repos/satelliet_nso/Meijendel/Meijendel & Berkheide_wgs84.geojson\"\n",
    "output_path = \"C:/Repos/satelliet_nso/output_pip_package/\"\n",
    "\n",
    "# This method fetches all the download links to all the satelliet images which contain region in the geojson\n",
    "georegion = nso.nso_georegion(path_geojson,output_path,\\\n",
    "                              nso_username,\\\n",
    "                            nso_password)"
   ]
  },
  {
   "cell_type": "code",
   "execution_count": null,
   "metadata": {},
   "outputs": [],
   "source": [
    "links = georegion.retrieve_download_links(max_diff=0.2)"
   ]
  },
  {
   "cell_type": "code",
   "execution_count": null,
   "metadata": {},
   "outputs": [],
   "source": [
    "links"
   ]
  },
  {
   "cell_type": "markdown",
   "metadata": {},
   "source": [
    "# Download, Crop and calculate NDVI for a LandSat Image"
   ]
  },
  {
   "cell_type": "markdown",
   "metadata": {},
   "source": [
    "### For a specific image"
   ]
  },
  {
   "cell_type": "code",
   "execution_count": null,
   "metadata": {},
   "outputs": [],
   "source": [
    "# Downloads a satellite image from the NSO, makes a crop out of it so it fits the geojson region and calculates the NVDI index.\n",
    "# The output will stored in the designated output folder.\n",
    "# image = links[0]\n",
    "image = 'https://api.satellietdataportaal.nl/v1/download/SV_RD_11bit_RGBI_50cm/20220501_111418_SV1-03'\n",
    "georegion.execute_link(image)\n",
    "\n",
    "# The parameters are : execute_link(self, link, delete_zip_file = False,delete_source_files = True, \n",
    "# check_if_file_exists = True,plot=True)"
   ]
  },
  {
   "cell_type": "markdown",
   "metadata": {},
   "source": [
    "### For a group of images "
   ]
  },
  {
   "cell_type": "code",
   "execution_count": null,
   "metadata": {},
   "outputs": [],
   "source": [
    "# loop through and download all the 200cm resolution SuperView images\n",
    "nr_links=0\n",
    "for link in links:\n",
    "    if 'SV' in link and '50cm' in link and 'RGBI' in link: #and '2022' in link\n",
    "        print(link)\n",
    "        nr_links+= 1\n",
    "        try:\n",
    "            georegion.execute_link(link)\n",
    "        except Exception as e:\n",
    "            print(e)\n",
    "print(nr_links)"
   ]
  },
  {
   "cell_type": "code",
   "execution_count": null,
   "metadata": {
    "scrolled": false
   },
   "outputs": [],
   "source": [
    "# loop through and download all the 200cm Trisat images\n",
    "for link in links:\n",
    "    if 'Tri' in link and \"80cm\" in link and \"8bit\" in link:\n",
    "        try:\n",
    "            georegion.execute_link(link)\n",
    "        except Exception as e:\n",
    "            print(e)"
   ]
  },
  {
   "cell_type": "markdown",
   "metadata": {},
   "source": [
    "# Normalize LandSat image"
   ]
  },
  {
   "cell_type": "markdown",
   "metadata": {},
   "source": [
    "### Multi date relative normalisation."
   ]
  },
  {
   "cell_type": "code",
   "execution_count": null,
   "metadata": {},
   "outputs": [],
   "source": [
    "# Imports the normalisation library.\n",
    "from satellite_images_nso.__normalisation import normalisation\n",
    "\n",
    "# Path to a Superview satellite image.\n",
    "path = \"20190401_111723_SV1-04_200cm_RD_11bit_RGBI_DenHaag_solleveld_sweco_cropped.tif\"\n",
    "\n",
    "normalisation.multidate_normalisation_75th_percentile(path)"
   ]
  },
  {
   "cell_type": "markdown",
   "metadata": {},
   "source": [
    "### Black spot normalisation."
   ]
  },
  {
   "cell_type": "code",
   "execution_count": null,
   "metadata": {},
   "outputs": [],
   "source": [
    "path = \"data_satellite/20210302_111341_SV1-03_SV_RD_11bit_RGBI_200cm_Brouwersdam_Grevelingen_21_cropped.tif\""
   ]
  },
  {
   "cell_type": "code",
   "execution_count": null,
   "metadata": {},
   "outputs": [],
   "source": [
    "# The first argument here is the path to satellite image and the second is the name of the satellite image to get coefficients for, this can be filled in partially.\n",
    "normalisation.multi_date_dark_spot_normalisation(path,\"20210302\")"
   ]
  },
  {
   "cell_type": "markdown",
   "metadata": {},
   "source": [
    "# Other functionalities"
   ]
  },
  {
   "cell_type": "code",
   "execution_count": null,
   "metadata": {},
   "outputs": [],
   "source": [
    "# The sat_manipulator gives other handy transmations on satellite data.\n",
    "import satellite_images_nso.api.sat_manipulator as sat_manipulator\n",
    "\n",
    "# This function reads a .tif file, which is a format the satellite data is stored in,  and converts it to a pixel based geopandas dataframe.\n",
    "# For machine learning purposes.\n",
    "path_to_vector = \"path/to/folder/*.tif\"\n",
    "geo_df_pixel = sat_manipulator.tranform_vector_to_pixel_gpdf(path_to_vector)"
   ]
  }
 ],
 "metadata": {
  "interpreter": {
   "hash": "1a5b1cfe29f80e7d67c7e17dc2d225a68d65a838dd9b58c9b1f057bae74be0d9"
  },
  "kernelspec": {
   "display_name": "Python 3.9.12 ('remote_sensing')",
   "language": "python",
   "name": "python3"
  },
  "language_info": {
   "codemirror_mode": {
    "name": "ipython",
    "version": 3
   },
   "file_extension": ".py",
   "mimetype": "text/x-python",
   "name": "python",
   "nbconvert_exporter": "python",
   "pygments_lexer": "ipython3",
   "version": "3.9.12"
  }
 },
 "nbformat": 4,
 "nbformat_minor": 2
}
