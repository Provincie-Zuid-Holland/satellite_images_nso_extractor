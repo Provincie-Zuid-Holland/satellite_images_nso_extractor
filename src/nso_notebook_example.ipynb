{
 "cells": [
  {
   "cell_type": "code",
   "execution_count": 14,
   "metadata": {},
   "outputs": [],
   "source": [
    "import satellite_images_nso.api.nso_georegion as nso\n",
    "import getpass"
   ]
  },
  {
   "cell_type": "markdown",
   "metadata": {},
   "source": [
    "# Search for satellite images in geojson and download links"
   ]
  },
  {
   "cell_type": "code",
   "execution_count": null,
   "metadata": {
    "scrolled": true
   },
   "outputs": [],
   "source": [
    "# get credentials\n",
    "nso_username = getpass.getpass(prompt='username:')\n",
    "nso_password = getpass.getpass(prompt='password:')\n",
    "\n",
    "# give path to geojson en output\n",
    "path_geojson = \"C:/Repos/satellite_images/map.geojson\"\n",
    "output_path = \"C:/Repos/satellite_images/output_pip_package/\"\n",
    "\n",
    "# This method fetches all the download links to all the satelliet images which contain region in the geojson\n",
    "georegion = nso.nso_georegion(path_geojson,output_path,\\\n",
    "                              nso_username,\\\n",
    "                            nso_password)"
   ]
  },
  {
   "cell_type": "code",
   "execution_count": null,
   "metadata": {},
   "outputs": [],
   "source": [
    "links = georegion.retrieve_download_links()"
   ]
  },
  {
   "cell_type": "code",
   "execution_count": null,
   "metadata": {},
   "outputs": [],
   "source": [
    "links"
   ]
  },
  {
   "cell_type": "markdown",
   "metadata": {},
   "source": [
    "# Download, Crop and calculate NDVI for a LandSat Image"
   ]
  },
  {
   "cell_type": "markdown",
   "metadata": {},
   "source": [
    "### For a specific image"
   ]
  },
  {
   "cell_type": "code",
   "execution_count": null,
   "metadata": {},
   "outputs": [],
   "source": [
    "# Downloads a satellite image from the NSO, makes a crop out of it so it fits the geojson region and calculates the NVDI index.\n",
    "# The output will stored in the designated output folder.\n",
    "\n",
    "image = links[0]\n",
    "georegion.execute_link(image, delete_zip_file=False)\n",
    "\n",
    "# The parameters are : execute_link(self, link, delete_zip_file = False,delete_source_files = True, \n",
    "# check_if_file_exists = True)"
   ]
  },
  {
   "cell_type": "markdown",
   "metadata": {},
   "source": [
    "### For a group of images "
   ]
  },
  {
   "cell_type": "code",
   "execution_count": null,
   "metadata": {},
   "outputs": [],
   "source": [
    "# loop through and download all the 200cm resolution SuperView images\n",
    "for link in links:\n",
    "    if 'SV' in link and '200cm' in link:\n",
    "        print(link)\n",
    "        try:\n",
    "            georegion.execute_link(link)\n",
    "        except Exception as e:\n",
    "            print(e)"
   ]
  },
  {
   "cell_type": "code",
   "execution_count": null,
   "metadata": {
    "scrolled": false
   },
   "outputs": [],
   "source": [
    "# loop through and download all the 200cm Trisat images\n",
    "for link in links:\n",
    "    if 'Tri' in link and \"80cm\" in link and \"8bit\" in link:\n",
    "        try:\n",
    "            georegion.execute_link(link)\n",
    "        except Exception as e:\n",
    "            print(e)"
   ]
  },
  {
   "cell_type": "markdown",
   "metadata": {},
   "source": [
    "# Other functionalities"
   ]
  },
  {
   "cell_type": "code",
   "execution_count": null,
   "metadata": {},
   "outputs": [],
   "source": [
    "# The sat_manipulator gives other handy transmations on satellite data.\n",
    "import satellite_images_nso.api.sat_manipulator as sat_manipulator\n",
    "\n",
    "# This function reads a .tif file, which is a format the satellite data is stored in,  and converts it to a pixel based geopandas dataframe.\n",
    "# For machine learning purposes.\n",
    "path_to_vector = \"path/to/folder/*.tif\"\n",
    "geo_df_pixel = sat_manipulator.tranform_vector_to_pixel_gpdf(path_to_vector)"
   ]
  }
 ],
 "metadata": {
  "interpreter": {
   "hash": "b3ba2566441a7c06988d0923437866b63cedc61552a5af99d1f4fb67d367b25f"
  },
  "kernelspec": {
   "display_name": "Python 3",
   "language": "python",
   "name": "python3"
  },
  "language_info": {
   "codemirror_mode": {
    "name": "ipython",
    "version": 3
   },
   "file_extension": ".py",
   "mimetype": "text/x-python",
   "name": "python",
   "nbconvert_exporter": "python",
   "pygments_lexer": "ipython3",
   "version": "3.7.3"
  }
 },
 "nbformat": 4,
 "nbformat_minor": 2
}
