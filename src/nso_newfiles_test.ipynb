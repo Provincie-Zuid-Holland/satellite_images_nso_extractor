{
 "cells": [
  {
   "cell_type": "code",
   "execution_count": null,
   "metadata": {},
   "outputs": [],
   "source": [
    "### from satellite_images_nso.__blob_storage import blob_storage\n",
    "import satellite_images_nso.api.nso_georegion as nso\n",
    "import glob"
   ]
  },
  {
   "cell_type": "code",
   "execution_count": null,
   "metadata": {},
   "outputs": [],
   "source": []
  },
  {
   "cell_type": "code",
   "execution_count": null,
   "metadata": {},
   "outputs": [],
   "source": [
    "sat_blob = blob_storage.blob_container(\"DefaultEndpointsProtocol=https;AccountName=a804bee12d94d498fbfe55e2;AccountKey=aBvvNgWrut/OP+RGaSJZarO0aNK8Svf+SIi8Tqp4NFi8j/7ZA2m+/p7rPWHyChexGi9sQXoi1oTXybL3t2uS/A==;EndpointSuffix=core.windows.net\",\"satellite-images-nso\")\n",
    "blob_pdf = sat_blob.create_df_current_tiff_files(\"https://a804bee12d94d498fbfe55e2.blob.core.windows.net\",\"natura2000-geojson-gebieden/fotos/\")\n",
    "blob_pdf_natura2000 = blob_pdf[blob_pdf['filename'].str.contains(\"natura2000-geojson-gebieden/fotos/\")]"
   ]
  },
  {
   "cell_type": "code",
   "execution_count": null,
   "metadata": {},
   "outputs": [],
   "source": [
    "found_files_geojson_duin = glob.glob(\"../input_data/*duin*.geojson\")\n",
    "links_group = []\n",
    "for file in found_files_geojson_duin:\n",
    "    georegion = nso.nso_georegion(file,\"~/tmp/nso-images\",\\\n",
    "                                        'micwin',\\\n",
    "                                        'PlfcJr6fRqj84w==')\n",
    "    links = georegion.retrieve_download_links()\n",
    "    for link in links:\n",
    "        if 'SV' in link and '50cm' in link and 'RGBI' in link:\n",
    "            links_group.append(link)"
   ]
  },
  {
   "cell_type": "code",
   "execution_count": null,
   "metadata": {},
   "outputs": [],
   "source": [
    "new_files = blob_storage.blob_container.check_new_tiff_file(owned_files=blob_pdf_natura2000['filename'].values, nso_files=links_group)\n",
    "print(\n",
    "    \"New files from NSO not in blobstorage:\",\n",
    "    new_files\n",
    ")"
   ]
  },
  {
   "cell_type": "code",
   "execution_count": null,
   "metadata": {},
   "outputs": [],
   "source": [
    "print(\"filecount NSO:\", len(links_group), \"\\nFilecount blobstorage:\", blob_pdf_natura2000.shape[0], \"\\nNew files discovered:\", len(new_files))"
   ]
  }
 ],
 "metadata": {
  "interpreter": {
   "hash": "767d51c1340bd893661ea55ea3124f6de3c7a262a8b4abca0554b478b1e2ff90"
  },
  "kernelspec": {
   "display_name": "Python 3",
   "language": "python",
   "name": "python3"
  },
  "language_info": {
   "codemirror_mode": {
    "name": "ipython",
    "version": 3
   },
   "file_extension": ".py",
   "mimetype": "text/x-python",
   "name": "python",
   "nbconvert_exporter": "python",
   "pygments_lexer": "ipython3",
   "version": "3.7.3"
  }
 },
 "nbformat": 4,
 "nbformat_minor": 2
}
