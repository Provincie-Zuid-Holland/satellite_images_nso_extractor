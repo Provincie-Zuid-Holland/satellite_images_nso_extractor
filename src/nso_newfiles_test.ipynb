{
 "cells": [
  {
   "cell_type": "code",
   "execution_count": null,
   "source": [
    "\n",
    "from satellite_images_nso.__blob_storage import blob_storage\n",
    "import satellite_images_nso.api.nso_georegion as nso\n",
    "import glob"
   ],
   "outputs": [],
   "metadata": {}
  },
  {
   "cell_type": "code",
   "execution_count": null,
   "source": [
    "sat_blob = blob_storage.blob_container(\"DefaultEndpointsProtocol=https;AccountName=a804bee12d94d498fbfe55e2;AccountKey=aBvvNgWrut/OP+RGaSJZarO0aNK8Svf+SIi8Tqp4NFi8j/7ZA2m+/p7rPWHyChexGi9sQXoi1oTXybL3t2uS/A==;EndpointSuffix=core.windows.net\",\"satellite-images-nso\")\n",
    "blob_pdf = sat_blob.create_df_current_tiff_files(\"https://a804bee12d94d498fbfe55e2.blob.core.windows.net\",\"natura2000-geojson-gebieden/fotos/\")\n",
    "blob_pdf_natura2000 = blob_pdf[blob_pdf['filename'].str.contains(\"natura2000-geojson-gebieden/fotos/\")]"
   ],
   "outputs": [],
   "metadata": {}
  },
  {
   "cell_type": "code",
   "execution_count": null,
   "source": [
    "found_files_geojson_duin = glob.glob(\"../input_data/*duin*.geojson\")\n",
    "links_group = []\n",
    "for file in found_files_geojson_duin:\n",
    "    georegion = nso.nso_georegion(file,\"~/tmp/nso-images\",\\\n",
    "                                        'micwin',\\\n",
    "                                        'PlfcJr6fRqj84w==')\n",
    "    links = georegion.retrieve_download_links()\n",
    "    for link in links:\n",
    "        if 'SV' in link and '50cm' in link and 'RGBI' in link:\n",
    "            links_group.append(link)"
   ],
   "outputs": [],
   "metadata": {}
  },
  {
   "cell_type": "code",
   "execution_count": null,
   "source": [
    "new_files = blob_storage.blob_container.check_new_tiff_file(owned_files=blob_pdf_natura2000['filename'].values, nso_files=links_group)\n",
    "print(\n",
    "    \"New files from NSO not in blobstorage:\",\n",
    "    new_files\n",
    ")"
   ],
   "outputs": [],
   "metadata": {}
  },
  {
   "cell_type": "code",
   "execution_count": null,
   "source": [
    "print(\"filecount NSO:\", len(links_group), \"\\nFilecount blobstorage:\", blob_pdf_natura2000.shape[0], \"\\nNew files discovered:\", len(new_files))"
   ],
   "outputs": [],
   "metadata": {}
  }
 ],
 "metadata": {
  "orig_nbformat": 4,
  "language_info": {
   "name": "python",
   "version": "3.9.6",
   "mimetype": "text/x-python",
   "codemirror_mode": {
    "name": "ipython",
    "version": 3
   },
   "pygments_lexer": "ipython3",
   "nbconvert_exporter": "python",
   "file_extension": ".py"
  },
  "kernelspec": {
   "name": "python3",
   "display_name": "Python 3.9.6 64-bit"
  },
  "interpreter": {
   "hash": "767d51c1340bd893661ea55ea3124f6de3c7a262a8b4abca0554b478b1e2ff90"
  }
 },
 "nbformat": 4,
 "nbformat_minor": 2
}