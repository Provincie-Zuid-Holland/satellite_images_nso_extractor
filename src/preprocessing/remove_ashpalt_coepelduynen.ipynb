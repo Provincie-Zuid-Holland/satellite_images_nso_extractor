{
 "cells": [
  {
   "cell_type": "markdown",
   "metadata": {},
   "source": [
    "# This notebook is used to remove asphalt from the Natura 2000 region of Coepelduynen.\n",
    "Weirdly enough parking spaces and some roads are still included in the official polygon region of Coepelduynen.\n",
    "We made the decision to remove these ashpalt regions from the satellite images.\n",
    "\n",
    "We combine here model results from a previous model which predicted asphalt supplement with handdrawn annotations."
   ]
  },
  {
   "cell_type": "code",
   "execution_count": 1,
   "metadata": {},
   "outputs": [
    {
     "name": "stderr",
     "output_type": "stream",
     "text": [
      "c:\\ProgramData\\Anaconda3\\lib\\site-packages\\geopandas\\_compat.py:115: UserWarning: The Shapely GEOS version (3.4.3-CAPI-1.8.3 r4285) is incompatible with the GEOS version PyGEOS was compiled with (3.10.0-CAPI-1.16.0). Conversions between both will be slow.\n",
      "  shapely_geos_version, geos_capi_version_string\n"
     ]
    }
   ],
   "source": [
    "%matplotlib notebook\n",
    "import glob\n",
    "import matplotlib.pyplot as plt\n",
    "import geopandas as gpd\n",
    "import rasterio\n",
    "import matplotlib.pyplot as plt\n",
    "import numpy as np\n",
    "from satellite_images_nso._manipulation import nso_manipulator"
   ]
  },
  {
   "cell_type": "code",
   "execution_count": null,
   "metadata": {},
   "outputs": [],
   "source": [
    "# Note this .shp file is the result of a model which predicted Asphalt but was not fully correct\n",
    "gdf = gpd.read_file(\"E:/output/Coepelduynen_segmentations/20230908_110020_PNEO-04_1_1_30cm_RD_12bit_RGBNED_Rijnsburg_natura2000_coepelduynen_cropped_ndvi_re_ndvi.shp\")\n",
    "gdf = gdf[gdf['label'] == \"Asphalt\"]\n",
    "gdf = gdf.explode()\n",
    "gdf['area'] = gdf['geometry'].area\n",
    "gdf['perimeter'] = gdf['geometry'].length"
   ]
  },
  {
   "cell_type": "code",
   "execution_count": null,
   "metadata": {},
   "outputs": [],
   "source": [
    "# Filter out the faulty ashpalt regions based on bad model preformance.\n",
    "gdf[(gdf[\"area\"] > 50) & (gdf['perimeter'] > 150) ].unary_union"
   ]
  },
  {
   "cell_type": "code",
   "execution_count": null,
   "metadata": {},
   "outputs": [],
   "source": [
    "# Create a new GeoDataFrame with the resulting MultiPolygon\n",
    "gdf_save = gpd.GeoDataFrame({'geometry': [gdf[(gdf[\"area\"] > 50) & (gdf['perimeter'] > 150) ].unary_union]}, geometry='geometry', crs=gdf.crs)"
   ]
  },
  {
   "cell_type": "code",
   "execution_count": null,
   "metadata": {},
   "outputs": [],
   "source": [
    "gdf_save.to_file(\"C:/repos/satellite-images-nso-datascience/data/annotations/Coepelduynen/asfalt_detection_coepelduynen.shp\")"
   ]
  },
  {
   "cell_type": "markdown",
   "metadata": {},
   "source": [
    "### Now merge with handdrawn annotated data"
   ]
  },
  {
   "cell_type": "code",
   "execution_count": null,
   "metadata": {},
   "outputs": [],
   "source": [
    "annotated_gdf = gpd.read_file(\"C:/repos/satellite-images-nso-datascience/data/annotations/Coepelduynen/asfalt_annotated_coepelduynen.geojson\")\n",
    "annotated_gdf['geometry'] = annotated_gdf['geometry'].buffer(0)"
   ]
  },
  {
   "cell_type": "code",
   "execution_count": null,
   "metadata": {},
   "outputs": [],
   "source": [
    "# Check the result\n",
    "gdf_save.append(annotated_gdf,ignore_index=True).drop(\"id\",axis=1).unary_union"
   ]
  },
  {
   "cell_type": "code",
   "execution_count": null,
   "metadata": {},
   "outputs": [],
   "source": [
    "gdf_save = gpd.GeoDataFrame({'geometry': [gdf_save.append(annotated_gdf,ignore_index=True).drop(\"id\",axis=1).unary_union]}, geometry='geometry', crs=gdf.crs)\n",
    "gdf_save.to_file(\"C:/repos/satellite-images-nso-datascience/data/annotations/Coepelduynen/asfalt_coepelduynen.shp\")"
   ]
  },
  {
   "cell_type": "markdown",
   "metadata": {},
   "source": [
    "### Extract from the original file"
   ]
  },
  {
   "cell_type": "code",
   "execution_count": null,
   "metadata": {},
   "outputs": [],
   "source": [
    "coepelduynen_gdf = gpd.read_file(\"C:/Users/pzhadmin/Documents/natura2000_coepelduynen.geojson\")\n",
    "coepelduynen_gdf =coepelduynen_gdf.to_crs(\"EPSG:28992\")\n",
    "diff_gdf = coepelduynen_gdf.difference(gdf_save)\n",
    "diff_gdf.to_file(\"C:/Users/pzhadmin/Documents/natura2000_coepelduynen_no_asphalt.geojson\")"
   ]
  },
  {
   "cell_type": "markdown",
   "metadata": {},
   "source": [
    "### Implement on all files"
   ]
  },
  {
   "cell_type": "code",
   "execution_count": null,
   "metadata": {},
   "outputs": [],
   "source": [
    "for file in glob.glob(\"E:/data/coepelduynen/*ndvi*.tif\"):\n",
    "    file = file.replace(\"\\\\\",\"/\")\n",
    "    print(file)\n",
    "    print(\"---\")\n",
    "   \n",
    "    print( file.replace(\".tif\",\"_asphalt_crop.tif\"))\n",
    "    \n",
    "    nso_manipulator.__make_the_crop(\"C:/Users/pzhadmin/Documents/natura2000_coepelduynen_no_asphalt.geojson\",file,file.replace(\".tif\",\"_asphalt_crop.tif\"), False)"
   ]
  }
 ],
 "metadata": {
  "kernelspec": {
   "display_name": "base",
   "language": "python",
   "name": "python3"
  },
  "language_info": {
   "codemirror_mode": {
    "name": "ipython",
    "version": 3
   },
   "file_extension": ".py",
   "mimetype": "text/x-python",
   "name": "python",
   "nbconvert_exporter": "python",
   "pygments_lexer": "ipython3",
   "version": "3.7.3"
  }
 },
 "nbformat": 4,
 "nbformat_minor": 2
}
