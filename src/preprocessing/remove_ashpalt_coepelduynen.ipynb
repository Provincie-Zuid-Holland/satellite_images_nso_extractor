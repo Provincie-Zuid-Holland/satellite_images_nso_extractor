{
 "cells": [
  {
   "cell_type": "markdown",
   "metadata": {},
   "source": [
    "# This notebook is used to remove asphalt from the Natura 2000 region of Coepelduynen.\n",
    "Weirdly enough parking spaces and some roads are still included in the official polygon region of Coepelduynen.\n",
    "We made the decision to remove these ashpalt regions from the satellite images.\n",
    "\n",
    "We combine here model results from a previous model which predicted asphalt supplement with handdrawn annotations."
   ]
  },
  {
   "cell_type": "code",
   "execution_count": null,
   "metadata": {},
   "outputs": [],
   "source": [
    "%matplotlib notebook\n",
    "import glob\n",
    "import matplotlib.pyplot as plt\n",
    "import geopandas as gpd\n",
    "import rasterio\n",
    "import matplotlib.pyplot as plt\n",
    "import numpy as np"
   ]
  },
  {
   "cell_type": "code",
   "execution_count": null,
   "metadata": {},
   "outputs": [],
   "source": [
    "# Note this .shp file is the result of a model which predicted Asphalt but was not fully correct\n",
    "gdf = gpd.read_file(\"E:/output/Coepelduynen_segmentations/20230908_110020_PNEO-04_1_1_30cm_RD_12bit_RGBNED_Rijnsburg_natura2000_coepelduynen_cropped_ndvi_re_ndvi.shp\")\n",
    "gdf = gdf[gdf['label'] == \"Asphalt\"]\n",
    "gdf = gdf.explode()\n",
    "gdf['area'] = gdf['geometry'].area\n",
    "gdf['perimeter'] = gdf['geometry'].length"
   ]
  },
  {
   "cell_type": "code",
   "execution_count": null,
   "metadata": {},
   "outputs": [],
   "source": [
    "# Filter out the faulty ashpalt regions.\n",
    "gdf[(gdf[\"area\"] > 50) & (gdf['perimeter'] > 150) ].unary_union"
   ]
  },
  {
   "cell_type": "code",
   "execution_count": null,
   "metadata": {},
   "outputs": [],
   "source": [
    "# Create a new GeoDataFrame with the resulting MultiPolygon\n",
    "gdf_save = gpd.GeoDataFrame({'geometry': [gdf[(gdf[\"area\"] > 50) & (gdf['perimeter'] > 150) ].unary_union]}, geometry='geometry', crs=gdf.crs)"
   ]
  },
  {
   "cell_type": "code",
   "execution_count": null,
   "metadata": {},
   "outputs": [],
   "source": [
    "gdf_save.to_file(\"C:/repos/satellite-images-nso-datascience/data/annotations/Coepelduynen/asfalt_detection_coepelduynen.shp\")"
   ]
  },
  {
   "cell_type": "markdown",
   "metadata": {},
   "source": [
    "### Now merge with handdrawn annotated data"
   ]
  },
  {
   "cell_type": "code",
   "execution_count": null,
   "metadata": {},
   "outputs": [],
   "source": [
    "annotated_gdf = gpd.read_file(\"C:/repos/satellite-images-nso-datascience/data/annotations/Coepelduynen/asfalt_annotated_coepelduynen.geojson\")\n",
    "annotated_gdf['geometry'] = annotated_gdf['geometry'].buffer(0)"
   ]
  },
  {
   "cell_type": "code",
   "execution_count": null,
   "metadata": {},
   "outputs": [],
   "source": [
    "# Check the result\n",
    "gdf_save.append(annotated_gdf,ignore_index=True).drop(\"id\",axis=1).unary_union"
   ]
  },
  {
   "cell_type": "code",
   "execution_count": null,
   "metadata": {},
   "outputs": [],
   "source": [
    "gdf_save = gpd.GeoDataFrame({'geometry': [gdf_save.append(annotated_gdf,ignore_index=True).drop(\"id\",axis=1).unary_union]}, geometry='geometry', crs=gdf.crs)\n",
    "gdf_save.to_file(\"C:/repos/satellite-images-nso-datascience/data/annotations/Coepelduynen/asfalt_coepelduynen.shp\")"
   ]
  },
  {
   "cell_type": "markdown",
   "metadata": {},
   "source": [
    "### Extract from the original file"
   ]
  },
  {
   "cell_type": "code",
   "execution_count": null,
   "metadata": {},
   "outputs": [],
   "source": [
    "def __make_the_crop(load_shape, raster_path, raster_path_cropped, plot):\n",
    "    \"\"\"\n",
    "        This crops the sattelite image with a chosen shape.\n",
    "\n",
    "        TODO: Make this accept a object of geopandas or shapely and crs independant.\n",
    "        @param load_schape: path to a geojson shape file.\n",
    "        @param raster_path_wgs: path to the raster .tiff file.\n",
    "        @param raster_path_cropped: path were the cropped raster will be stored.\n",
    "    \"\"\"\n",
    "    geo_file = gpd.read_file(load_shape)\n",
    "    src = rasterio.open(raster_path)\n",
    "    print('raster path opened')\n",
    "    # Change the crs to rijks driehoek, because all the satelliet images are in rijks driehoek\n",
    "    if geo_file.crs != 'epsg:28992':\n",
    "        geo_file = geo_file.to_crs(epsg=28992)\n",
    "\n",
    "    out_image, out_transform = rasterio.mask.mask(src,geo_file['geometry'], crop=True, filled=True)\n",
    "    out_meta = src.meta\n",
    "\n",
    "    out_meta.update({\"driver\": \"GTiff\",\n",
    "                 \"height\": out_image.shape[1],\n",
    "                 \"width\": out_image.shape[2],\n",
    "                 \"transform\": out_transform})\n",
    "    print('convert to RD')\n",
    "\n",
    "    src.close()\n",
    "    with rasterio.open(raster_path_cropped, \"w\", **out_meta) as dest:\n",
    "            dest.write(out_image)\n",
    "            dest.close()\n",
    "\n",
    "    if plot:\n",
    "        print(\"Plotting data for:\"+raster_path_cropped+\"-----------------------------------------------------\")\n",
    "        # TODO: Make this optional to plot.\n",
    "        src = rasterio.open(raster_path_cropped)\n",
    "        plot_out_image = np.clip(src.read()[2::-1],\n",
    "                        0,2200)/2200 # out_image[2::-1] selects the first three items, reversed\n",
    "\n",
    "        plt.figure(figsize=(10,10))\n",
    "        rasterio.plot.show(plot_out_image,\n",
    "            transform=src.transform)\n",
    "        logging.info(f'Plotted cropped image {raster_path_cropped}')\n",
    "        src.close()"
   ]
  },
  {
   "cell_type": "code",
   "execution_count": null,
   "metadata": {},
   "outputs": [],
   "source": [
    "coepelduynen_gdf = gpd.read_file(\"C:/Users/pzhadmin/Documents/natura2000_coepelduynen.geojson\")\n",
    "coepelduynen_gdf =coepelduynen_gdf.to_crs(\"EPSG:28992\")\n",
    "diff_gdf = coepelduynen_gdf.difference(gdf_save)\n",
    "diff_gdf.to_file(\"C:/Users/pzhadmin/Documents/natura2000_coepelduynen_no_asphalt.geojson\")"
   ]
  },
  {
   "cell_type": "code",
   "execution_count": null,
   "metadata": {},
   "outputs": [],
   "source": [
    "__make_the_crop(\"C:/Users/pzhadmin/Documents/natura2000_coepelduynen_no_asphalt.geojson\", 'E:/data/coepelduynen/20230513_104139_PNEO-03_1_1_30cm_RD_12bit_RGBNED_NoordwijkAanZee_natura2000_coepelduynen_cropped_ndvi_re_ndvi.tif','E:/data/coepelduynen/20230513_104139_PNEO-03_1_1_30cm_RD_12bit_RGBNED_NoordwijkAanZee_natura2000_coepelduynen_cropped_ndvi_re_ndvi_no_asphalt_crop.tif', True)"
   ]
  },
  {
   "cell_type": "code",
   "execution_count": null,
   "metadata": {},
   "outputs": [],
   "source": [
    "for file in glob.glob(\"E:/data/coepelduynen/*ndvi*.tif\"):\n",
    "    file = file.replace(\"\\\\\",\"/\")\n",
    "    print(file)\n",
    "    print(\"---\")\n",
    "   \n",
    "    print( file.replace(\".tif\",\"_asphalt_crop.tif\"))\n",
    "    \n",
    "    __make_the_crop(\"C:/Users/pzhadmin/Documents/natura2000_coepelduynen_no_asphalt.geojson\",file,file.replace(\".tif\",\"_asphalt_crop.tif\"), False)"
   ]
  }
 ],
 "metadata": {
  "language_info": {
   "name": "python"
  }
 },
 "nbformat": 4,
 "nbformat_minor": 2
}
