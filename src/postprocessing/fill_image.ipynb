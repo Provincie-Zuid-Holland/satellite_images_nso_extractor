{
 "cells": [
  {
   "cell_type": "code",
   "execution_count": 36,
   "metadata": {},
   "outputs": [],
   "source": [
    "import rasterio\n",
    "from rasterio import features\n",
    "from rasterio.features import shapes\n",
    "from shapely.geometry import shape\n",
    "import satellite_images_nso.api.nso_georegion as nso\n",
    "import geopandas as gpd\n",
    "from shapely.geometry import Polygon, Point\n",
    "import numpy as np\n",
    "import pandas as pd\n",
    "from shapely.geometry import MultiPoint, MultiLineString"
   ]
  },
  {
   "cell_type": "code",
   "execution_count": 37,
   "metadata": {},
   "outputs": [],
   "source": [
    "raster_path = \"E:/data/coepelduynen/20230910_105008_PNEO-03_1_1_30cm_RD_12bit_RGBNED_NoordwijkAanZee_natura2000_coepelduynen_cropped_ndvi_re_ndvi_asphalt_crop.tif\"\n",
    "georegion_path = \"C:/repos/satellite-images-nso/input_data/natura2000_coepelduynen.geojson\""
   ]
  },
  {
   "cell_type": "code",
   "execution_count": 38,
   "metadata": {},
   "outputs": [],
   "source": [
    "dataset = rasterio.open(raster_path)\n",
    "data = rasterio.open(raster_path).read()\n",
    "column_names: list = [\n",
    "            \"r\",\n",
    "            \"g\",\n",
    "            \"b\",\n",
    "            \"n\",\n",
    "            \"e\",\n",
    "            \"d\",\n",
    "            \"ndvi\",\n",
    "            \"re_ndvi\"\n",
    "        ]"
   ]
  },
  {
   "cell_type": "code",
   "execution_count": 39,
   "metadata": {},
   "outputs": [],
   "source": [
    "z_shape = data.shape[0]\n",
    "x_shape = data.shape[1]\n",
    "y_shape = data.shape[2]\n",
    "x_coordinates = [\n",
    "            [x for y in range(0, data.shape[2])]\n",
    "            for x in range(0, data.shape[1])\n",
    "        ]\n",
    "y_coordinates = [\n",
    "            [y for y in range(0, data.shape[2])] for x in range(0, data.shape[1])\n",
    "        ]\n",
    "\n",
    "rd_x, rd_y = rasterio.transform.xy(\n",
    "            dataset.transform, x_coordinates, y_coordinates, offset=\"center\"\n",
    "        )\n",
    "\n",
    "\n",
    "data = np.append(data, rd_x).reshape([z_shape + 1, x_shape, y_shape])\n",
    "data = np.append(data, rd_y).reshape([z_shape + 2, x_shape, y_shape])\n",
    "\n",
    "data = data.reshape(-1, x_shape * y_shape).transpose()\n",
    "\n",
    "df = pd.DataFrame(\n",
    "            data,\n",
    "            columns=column_names\n",
    "            + [\n",
    "                \"rd_x\",\n",
    "                \"rd_y\",\n",
    "            ],\n",
    "        )"
   ]
  },
  {
   "cell_type": "code",
   "execution_count": 40,
   "metadata": {},
   "outputs": [],
   "source": [
    "# Filter empty pixels\n",
    "df = df[df['b'] != 0]"
   ]
  },
  {
   "cell_type": "code",
   "execution_count": 41,
   "metadata": {},
   "outputs": [],
   "source": [
    "gdf1 = gpd.GeoDataFrame(df[0:120000], geometry=gpd.points_from_xy(df[0:120000][\"rd_x\"], df[0:120000][\"rd_y\"]))\n",
    "gdf1 = gdf1.set_crs('EPSG:28992').to_crs(\"EPSG:4326\")"
   ]
  },
  {
   "cell_type": "code",
   "execution_count": 42,
   "metadata": {},
   "outputs": [],
   "source": [
    "gdf2 = gpd.read_file(georegion_path) "
   ]
  },
  {
   "cell_type": "code",
   "execution_count": 43,
   "metadata": {},
   "outputs": [],
   "source": [
    "intersection = gpd.overlay(gdf1, gdf2, how='difference')"
   ]
  },
  {
   "cell_type": "code",
   "execution_count": 44,
   "metadata": {},
   "outputs": [
    {
     "data": {
      "text/html": [
       "<div>\n",
       "<style scoped>\n",
       "    .dataframe tbody tr th:only-of-type {\n",
       "        vertical-align: middle;\n",
       "    }\n",
       "\n",
       "    .dataframe tbody tr th {\n",
       "        vertical-align: top;\n",
       "    }\n",
       "\n",
       "    .dataframe thead th {\n",
       "        text-align: right;\n",
       "    }\n",
       "</style>\n",
       "<table border=\"1\" class=\"dataframe\">\n",
       "  <thead>\n",
       "    <tr style=\"text-align: right;\">\n",
       "      <th></th>\n",
       "      <th>r</th>\n",
       "      <th>g</th>\n",
       "      <th>b</th>\n",
       "      <th>n</th>\n",
       "      <th>e</th>\n",
       "      <th>d</th>\n",
       "      <th>ndvi</th>\n",
       "      <th>re_ndvi</th>\n",
       "      <th>rd_x</th>\n",
       "      <th>rd_y</th>\n",
       "      <th>geometry</th>\n",
       "    </tr>\n",
       "  </thead>\n",
       "  <tbody>\n",
       "    <tr>\n",
       "      <th>0</th>\n",
       "      <td>288.0</td>\n",
       "      <td>372.0</td>\n",
       "      <td>481.0</td>\n",
       "      <td>447.0</td>\n",
       "      <td>362.0</td>\n",
       "      <td>653.0</td>\n",
       "      <td>121.0</td>\n",
       "      <td>111.0</td>\n",
       "      <td>89744.55</td>\n",
       "      <td>472287.75</td>\n",
       "      <td>POINT (4.43193 52.23479)</td>\n",
       "    </tr>\n",
       "  </tbody>\n",
       "</table>\n",
       "</div>"
      ],
      "text/plain": [
       "       r      g      b      n      e      d   ndvi  re_ndvi      rd_x  \\\n",
       "0  288.0  372.0  481.0  447.0  362.0  653.0  121.0    111.0  89744.55   \n",
       "\n",
       "        rd_y                  geometry  \n",
       "0  472287.75  POINT (4.43193 52.23479)  "
      ]
     },
     "execution_count": 44,
     "metadata": {},
     "output_type": "execute_result"
    }
   ],
   "source": [
    "intersection"
   ]
  },
  {
   "cell_type": "code",
   "execution_count": 11,
   "metadata": {},
   "outputs": [],
   "source": [
    "intersection.to_file(\"missing_region.geojson\")"
   ]
  }
 ],
 "metadata": {
  "kernelspec": {
   "display_name": "Python 3",
   "language": "python",
   "name": "python3"
  },
  "language_info": {
   "codemirror_mode": {
    "name": "ipython",
    "version": 3
   },
   "file_extension": ".py",
   "mimetype": "text/x-python",
   "name": "python",
   "nbconvert_exporter": "python",
   "pygments_lexer": "ipython3",
   "version": "3.12.1"
  }
 },
 "nbformat": 4,
 "nbformat_minor": 2
}
