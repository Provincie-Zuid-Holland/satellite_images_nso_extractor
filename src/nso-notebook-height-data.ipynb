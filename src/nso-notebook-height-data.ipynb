{
 "cells": [
  {
   "cell_type": "code",
   "execution_count": 1,
   "metadata": {},
   "outputs": [],
   "source": [
    "import os\n",
    "import rasterio\n",
    "import numpy as np\n",
    "import pickle as pkl\n",
    "from tqdm import tqdm\n",
    "from rasterio.crs import CRS\n",
    "from affine import Affine\n",
    "from rasterio import windows\n",
    "import math\n",
    "import pandas as pd\n",
    "from glob import glob\n",
    "import pylas\n",
    "from multiprocessing import Pool"
   ]
  },
  {
   "cell_type": "code",
   "execution_count": 2,
   "metadata": {},
   "outputs": [],
   "source": [
    "def normalize_parameters(src):\n",
    "        print(\"Performing channel normalization...\")\n",
    "        channel_normalisation = {}\n",
    "        combined_channel = []\n",
    "        assert(len(src.indexes) == 4) # Expects input tif to only have RGBI (4) channels\n",
    "        for index in tqdm(src.indexes):\n",
    "            # print(f\"\\r{index} of {len(src.indexes)}\", end=\"\")\n",
    "            channel = src.read(index).flatten()\n",
    "            combined_channel.extend(list(filter(lambda x: x > 0, channel))) # Remove black values\n",
    "        \n",
    "        combined_channel.sort()\n",
    "        bottom_percentile = int(len(combined_channel)*.005)\n",
    "        top_percentile = int(len(combined_channel)*.995)\n",
    "\n",
    "        for index in src.indexes:\n",
    "            channel_normalisation[index] = {\n",
    "                \"min\": combined_channel[bottom_percentile], \n",
    "                \"max\": combined_channel[top_percentile]\n",
    "            }\n",
    "        print(\"\\nDONE\\n\")\n",
    "        return channel_normalisation\n",
    "\n",
    "def normalise(tile, norm, w, h):\n",
    "        newtile = []\n",
    "        for i in tqdm(range(len(tile))):\n",
    "            n = norm[i+1]\n",
    "            d = n[\"max\"]-n[\"min\"]\n",
    "            if i == 3:\n",
    "                newtile.append(np.array([[255] * w]* h, dtype=np.uint8))\n",
    "            newtile.append(\n",
    "                np.array(\n",
    "                    list(map( lambda x: \n",
    "                        list(map(lambda y: \n",
    "                            0 if y < 0 else 255 if y > 255 else y, x\n",
    "                        )), \n",
    "                        [list(map(lambda x: int(round((float(x)-n[\"min\"])/d*255)), row)) for row in tile[i]]\n",
    "                    )\n",
    "                ), dtype=np.uint8))\n",
    "        return newtile\n",
    "    \n",
    "def generate_vegetation_height_channel(vegetation_height_data, vegetation_height_transform, target_transform, target_width, target_height):\n",
    "        print(\"Generating vegetation height channel...\")\n",
    "        channel = np.array([[0] * target_width] * target_height, dtype=np.uint8)\n",
    "        src_height, src_width = vegetation_height_data.shape[0], vegetation_height_data.shape[1]\n",
    "        for y in tqdm(range(target_height)):\n",
    "            for x in range(target_width):\n",
    "                rd_x, rd_y = rasterio.transform.xy(target_transform, y, x)\n",
    "                vh_y, vh_x = rasterio.transform.rowcol(vegetation_height_transform, rd_x, rd_y)\n",
    "                if vh_x < 0 or vh_x >= src_width or \\\n",
    "                    vh_y < 0 or vh_y >= src_height:\n",
    "                    continue\n",
    "                # print(rd_x, rd_y, x, y, vh_x, vh_y)\n",
    "                channel[y][x] = vegetation_height_data[vh_y][vh_x]\n",
    "        return channel\n",
    "\n",
    "def generate_ndvi_channel(tile):\n",
    "        print(\"Generating NDVI channel...\")\n",
    "        red = tile[2]\n",
    "        nir = tile[3]\n",
    "        ndvi = []\n",
    "        for i in tqdm(range(len(red))):\n",
    "            ndvi.append((nir[i]-red[i])/(nir[i]+red[i]+1e-10)*255)\n",
    "        return np.array(ndvi, dtype=np.uint8)"
   ]
  },
  {
   "cell_type": "code",
   "execution_count": 3,
   "metadata": {},
   "outputs": [],
   "source": [
    "laz = pylas.read(\"C:/repos/satellite-images-nso/data/C_30EN2.LAZ\")"
   ]
  },
  {
   "cell_type": "code",
   "execution_count": 4,
   "metadata": {},
   "outputs": [],
   "source": [
    "ahn_output = \"C:/repos/satellite-images-nso/data/output_ahn.tif\""
   ]
  },
  {
   "cell_type": "code",
   "execution_count": 5,
   "metadata": {},
   "outputs": [],
   "source": [
    "date = laz.header.date    \n",
    "cloud = np.dstack([laz.x, laz.y, laz.z, laz.classification])[0]"
   ]
  },
  {
   "cell_type": "code",
   "execution_count": 6,
   "metadata": {},
   "outputs": [],
   "source": [
    "bb = rasterio.coords.BoundingBox(min(laz.x), min(laz.y),max(laz.x),max(laz.y))"
   ]
  },
  {
   "cell_type": "code",
   "execution_count": 7,
   "metadata": {},
   "outputs": [],
   "source": [
    "cloud_df = pd.DataFrame({\n",
    "            \"x\":laz.x, \n",
    "            \"y\":laz.y, \n",
    "            \"z\":laz.z,\n",
    "            \"classification\": laz.classification\n",
    "        })"
   ]
  },
  {
   "cell_type": "code",
   "execution_count": 8,
   "metadata": {},
   "outputs": [],
   "source": [
    "del laz"
   ]
  },
  {
   "cell_type": "code",
   "execution_count": null,
   "metadata": {},
   "outputs": [],
   "source": [
    " for k in [\"x\", \"y\"]:\n",
    "        cloud_df[k] = cloud_df[k].round()"
   ]
  },
  {
   "cell_type": "code",
   "execution_count": null,
   "metadata": {},
   "outputs": [],
   "source": [
    "maaiveld_df = cloud_df[cloud_df[\"classification\"] == 2]\n",
    "vegetation_df = cloud_df[cloud_df[\"classification\"] == 1]"
   ]
  },
  {
   "cell_type": "code",
   "execution_count": null,
   "metadata": {},
   "outputs": [],
   "source": [
    "maaiveld_df = maaiveld_df.groupby(['x', 'y', \"classification\"]).agg({\n",
    "                'z': 'min'\n",
    "            })\n",
    "\n",
    "maaiveld_df = maaiveld_df.reset_index()\n",
    "\n",
    "\n",
    "vegetation_df = vegetation_df.groupby(['x', 'y', \"classification\"]).agg({\n",
    "                'z': 'max'\n",
    "            })\n",
    "\n",
    "vegetation_df = vegetation_df.reset_index()"
   ]
  },
  {
   "cell_type": "code",
   "execution_count": null,
   "metadata": {},
   "outputs": [],
   "source": [
    "ahn_data = pd.merge(vegetation_df, maaiveld_df, how='outer', on=['x', 'y'], suffixes=[\"_vegetation\", \"_maaiveld\"])\n",
    "ahn_data[\"height\"] = list(map(lambda x: 0 if pd.isnull(x[0]) else x[0] - x[1], np.array([ahn_data[\"z_vegetation\"], ahn_data[\"z_maaiveld\"]]).T))"
   ]
  },
  {
   "cell_type": "code",
   "execution_count": null,
   "metadata": {},
   "outputs": [],
   "source": [
    "del maaiveld_df\n",
    "del vegetation_df"
   ]
  },
  {
   "cell_type": "code",
   "execution_count": null,
   "metadata": {
    "collapsed": true
   },
   "outputs": [
    {
     "data": {
      "text/html": [
       "<div>\n",
       "<style scoped>\n",
       "    .dataframe tbody tr th:only-of-type {\n",
       "        vertical-align: middle;\n",
       "    }\n",
       "\n",
       "    .dataframe tbody tr th {\n",
       "        vertical-align: top;\n",
       "    }\n",
       "\n",
       "    .dataframe thead th {\n",
       "        text-align: right;\n",
       "    }\n",
       "</style>\n",
       "<table border=\"1\" class=\"dataframe\">\n",
       "  <thead>\n",
       "    <tr style=\"text-align: right;\">\n",
       "      <th></th>\n",
       "      <th>x</th>\n",
       "      <th>y</th>\n",
       "      <th>classification_vegetation</th>\n",
       "      <th>z_vegetation</th>\n",
       "      <th>classification_maaiveld</th>\n",
       "      <th>z_maaiveld</th>\n",
       "      <th>height</th>\n",
       "    </tr>\n",
       "  </thead>\n",
       "  <tbody>\n",
       "    <tr>\n",
       "      <th>0</th>\n",
       "      <td>86661.0</td>\n",
       "      <td>468757.0</td>\n",
       "      <td>1.0</td>\n",
       "      <td>0.972</td>\n",
       "      <td>2.0</td>\n",
       "      <td>0.725</td>\n",
       "      <td>0.247</td>\n",
       "    </tr>\n",
       "    <tr>\n",
       "      <th>1</th>\n",
       "      <td>86661.0</td>\n",
       "      <td>468758.0</td>\n",
       "      <td>1.0</td>\n",
       "      <td>0.968</td>\n",
       "      <td>2.0</td>\n",
       "      <td>0.788</td>\n",
       "      <td>0.180</td>\n",
       "    </tr>\n",
       "    <tr>\n",
       "      <th>2</th>\n",
       "      <td>86662.0</td>\n",
       "      <td>468756.0</td>\n",
       "      <td>1.0</td>\n",
       "      <td>1.136</td>\n",
       "      <td>2.0</td>\n",
       "      <td>0.773</td>\n",
       "      <td>0.363</td>\n",
       "    </tr>\n",
       "    <tr>\n",
       "      <th>3</th>\n",
       "      <td>86662.0</td>\n",
       "      <td>468757.0</td>\n",
       "      <td>1.0</td>\n",
       "      <td>1.038</td>\n",
       "      <td>2.0</td>\n",
       "      <td>0.746</td>\n",
       "      <td>0.292</td>\n",
       "    </tr>\n",
       "    <tr>\n",
       "      <th>4</th>\n",
       "      <td>86662.0</td>\n",
       "      <td>468761.0</td>\n",
       "      <td>1.0</td>\n",
       "      <td>1.073</td>\n",
       "      <td>2.0</td>\n",
       "      <td>0.756</td>\n",
       "      <td>0.317</td>\n",
       "    </tr>\n",
       "    <tr>\n",
       "      <th>...</th>\n",
       "      <td>...</td>\n",
       "      <td>...</td>\n",
       "      <td>...</td>\n",
       "      <td>...</td>\n",
       "      <td>...</td>\n",
       "      <td>...</td>\n",
       "      <td>...</td>\n",
       "    </tr>\n",
       "    <tr>\n",
       "      <th>8070668</th>\n",
       "      <td>90000.0</td>\n",
       "      <td>474581.0</td>\n",
       "      <td>NaN</td>\n",
       "      <td>NaN</td>\n",
       "      <td>2.0</td>\n",
       "      <td>0.663</td>\n",
       "      <td>0.000</td>\n",
       "    </tr>\n",
       "    <tr>\n",
       "      <th>8070669</th>\n",
       "      <td>90000.0</td>\n",
       "      <td>474582.0</td>\n",
       "      <td>NaN</td>\n",
       "      <td>NaN</td>\n",
       "      <td>2.0</td>\n",
       "      <td>0.643</td>\n",
       "      <td>0.000</td>\n",
       "    </tr>\n",
       "    <tr>\n",
       "      <th>8070670</th>\n",
       "      <td>90000.0</td>\n",
       "      <td>474583.0</td>\n",
       "      <td>NaN</td>\n",
       "      <td>NaN</td>\n",
       "      <td>2.0</td>\n",
       "      <td>0.617</td>\n",
       "      <td>0.000</td>\n",
       "    </tr>\n",
       "    <tr>\n",
       "      <th>8070671</th>\n",
       "      <td>90000.0</td>\n",
       "      <td>474584.0</td>\n",
       "      <td>NaN</td>\n",
       "      <td>NaN</td>\n",
       "      <td>2.0</td>\n",
       "      <td>0.573</td>\n",
       "      <td>0.000</td>\n",
       "    </tr>\n",
       "    <tr>\n",
       "      <th>8070672</th>\n",
       "      <td>90000.0</td>\n",
       "      <td>474585.0</td>\n",
       "      <td>NaN</td>\n",
       "      <td>NaN</td>\n",
       "      <td>2.0</td>\n",
       "      <td>0.617</td>\n",
       "      <td>0.000</td>\n",
       "    </tr>\n",
       "  </tbody>\n",
       "</table>\n",
       "<p>8070673 rows × 7 columns</p>\n",
       "</div>"
      ],
      "text/plain": [
       "               x         y  classification_vegetation  z_vegetation  \\\n",
       "0        86661.0  468757.0                        1.0         0.972   \n",
       "1        86661.0  468758.0                        1.0         0.968   \n",
       "2        86662.0  468756.0                        1.0         1.136   \n",
       "3        86662.0  468757.0                        1.0         1.038   \n",
       "4        86662.0  468761.0                        1.0         1.073   \n",
       "...          ...       ...                        ...           ...   \n",
       "8070668  90000.0  474581.0                        NaN           NaN   \n",
       "8070669  90000.0  474582.0                        NaN           NaN   \n",
       "8070670  90000.0  474583.0                        NaN           NaN   \n",
       "8070671  90000.0  474584.0                        NaN           NaN   \n",
       "8070672  90000.0  474585.0                        NaN           NaN   \n",
       "\n",
       "         classification_maaiveld  z_maaiveld  height  \n",
       "0                            2.0       0.725   0.247  \n",
       "1                            2.0       0.788   0.180  \n",
       "2                            2.0       0.773   0.363  \n",
       "3                            2.0       0.746   0.292  \n",
       "4                            2.0       0.756   0.317  \n",
       "...                          ...         ...     ...  \n",
       "8070668                      2.0       0.663   0.000  \n",
       "8070669                      2.0       0.643   0.000  \n",
       "8070670                      2.0       0.617   0.000  \n",
       "8070671                      2.0       0.573   0.000  \n",
       "8070672                      2.0       0.617   0.000  \n",
       "\n",
       "[8070673 rows x 7 columns]"
      ]
     },
     "execution_count": 14,
     "metadata": {},
     "output_type": "execute_result"
    }
   ],
   "source": [
    "ahn_data"
   ]
  },
  {
   "cell_type": "code",
   "execution_count": null,
   "metadata": {},
   "outputs": [],
   "source": [
    "def neighbor(x):\n",
    "    nans[nans.index == x ]\n",
    "    neighbors = [\n",
    "                ahn_data[(ahn_data[\"x\"]==row[\"x\"]) & (ahn_data[\"y\"]==row[\"y\"]+1)],\n",
    "                ahn_data[(ahn_data[\"x\"]==row[\"x\"]+1) & (ahn_data[\"y\"]==row[\"y\"])],\n",
    "                ahn_data[(ahn_data[\"x\"]==row[\"x\"]) & (ahn_data[\"y\"]==row[\"y\"]-1)],\n",
    "                ahn_data[(ahn_data[\"x\"]==row[\"x\"]-1) & (ahn_data[\"y\"]==row[\"y\"])],\n",
    "                ahn_data[(ahn_data[\"x\"]==row[\"x\"]+1) & (ahn_data[\"y\"]==row[\"y\"]+1)],\n",
    "                ahn_data[(ahn_data[\"x\"]==row[\"x\"]+1) & (ahn_data[\"y\"]==row[\"y\"]-1)],\n",
    "                ahn_data[(ahn_data[\"x\"]==row[\"x\"]-1) & (ahn_data[\"y\"]==row[\"y\"]-1)],\n",
    "                ahn_data[(ahn_data[\"x\"]==row[\"x\"]-1) & (ahn_data[\"y\"]==row[\"y\"]+1)]\n",
    "            ]\n",
    "    \n",
    "    heights = []\n",
    "    for n in neighbors:\n",
    "                if n.shape[0] == 0 or np.isnan(n[\"height\"].values[0]): \n",
    "                    continue\n",
    "                heights.append(n[\"height\"].values[0])\n",
    "    if len(heights) > minimalNeighborCount:\n",
    "               ahn_data.at[idx, \"height\"] = np.median(heights)\n",
    "    "
   ]
  },
  {
   "cell_type": "code",
   "execution_count": null,
   "metadata": {},
   "outputs": [
    {
     "name": "stderr",
     "output_type": "stream",
     "text": [
      "\r",
      "  0%|                                                                                        | 0/50 [00:00<?, ?it/s]"
     ]
    },
    {
     "name": "stdout",
     "output_type": "stream",
     "text": [
      "151231 5\n"
     ]
    },
    {
     "name": "stderr",
     "output_type": "stream",
     "text": [
      "\r",
      "  2%|█▍                                                                    | 1/50 [11:12:14<549:00:08, 40334.87s/it]"
     ]
    },
    {
     "name": "stdout",
     "output_type": "stream",
     "text": [
      "80240 5\n"
     ]
    },
    {
     "name": "stderr",
     "output_type": "stream",
     "text": [
      "\r",
      "  4%|██▊                                                                   | 2/50 [17:09:02<389:20:54, 29201.13s/it]"
     ]
    },
    {
     "name": "stdout",
     "output_type": "stream",
     "text": [
      "72713 5\n"
     ]
    },
    {
     "name": "stderr",
     "output_type": "stream",
     "text": [
      "\r",
      "  6%|████▏                                                                 | 3/50 [22:30:50<322:15:30, 24683.64s/it]"
     ]
    },
    {
     "name": "stdout",
     "output_type": "stream",
     "text": [
      "69016 5\n"
     ]
    },
    {
     "name": "stderr",
     "output_type": "stream",
     "text": [
      "\r",
      "  8%|█████▌                                                                | 4/50 [27:30:49<281:40:51, 22044.60s/it]"
     ]
    },
    {
     "name": "stdout",
     "output_type": "stream",
     "text": [
      "66988 4\n"
     ]
    },
    {
     "name": "stderr",
     "output_type": "stream",
     "text": [
      "\r",
      " 10%|███████                                                               | 5/50 [32:22:27<255:03:48, 20405.09s/it]"
     ]
    },
    {
     "name": "stdout",
     "output_type": "stream",
     "text": [
      "31792 4\n"
     ]
    },
    {
     "name": "stderr",
     "output_type": "stream",
     "text": [
      "\r",
      " 12%|████████▍                                                             | 6/50 [34:41:39<199:18:40, 16307.29s/it]"
     ]
    },
    {
     "name": "stdout",
     "output_type": "stream",
     "text": [
      "27892 4\n"
     ]
    },
    {
     "name": "stderr",
     "output_type": "stream",
     "text": [
      "\r",
      " 14%|█████████▊                                                            | 7/50 [36:45:33<160:07:44, 13406.16s/it]"
     ]
    },
    {
     "name": "stdout",
     "output_type": "stream",
     "text": [
      "25880 4\n"
     ]
    },
    {
     "name": "stderr",
     "output_type": "stream",
     "text": [
      "\r",
      " 16%|███████████▏                                                          | 8/50 [38:40:28<132:13:24, 11333.43s/it]"
     ]
    },
    {
     "name": "stdout",
     "output_type": "stream",
     "text": [
      "24744 3\n"
     ]
    },
    {
     "name": "stderr",
     "output_type": "stream",
     "text": [
      "\r",
      " 18%|████████████▊                                                          | 9/50 [40:31:54<112:31:46, 9880.64s/it]"
     ]
    },
    {
     "name": "stdout",
     "output_type": "stream",
     "text": [
      "16227 3\n"
     ]
    },
    {
     "name": "stderr",
     "output_type": "stream",
     "text": [
      "\r",
      " 20%|██████████████▏                                                        | 10/50 [41:44:47<90:53:32, 8180.32s/it]"
     ]
    },
    {
     "name": "stdout",
     "output_type": "stream",
     "text": [
      "14165 3\n"
     ]
    },
    {
     "name": "stderr",
     "output_type": "stream",
     "text": [
      "\r",
      " 22%|███████████████▌                                                       | 11/50 [42:48:19<74:08:13, 6843.42s/it]"
     ]
    },
    {
     "name": "stdout",
     "output_type": "stream",
     "text": [
      "12875 3\n"
     ]
    },
    {
     "name": "stderr",
     "output_type": "stream",
     "text": [
      "\r",
      " 24%|█████████████████                                                      | 12/50 [43:46:51<61:32:09, 5829.72s/it]"
     ]
    },
    {
     "name": "stdout",
     "output_type": "stream",
     "text": [
      "12104 3\n"
     ]
    },
    {
     "name": "stderr",
     "output_type": "stream",
     "text": [
      "\r",
      " 26%|██████████████████▍                                                    | 13/50 [44:41:26<51:57:52, 5056.02s/it]"
     ]
    },
    {
     "name": "stdout",
     "output_type": "stream",
     "text": [
      "11616 2\n"
     ]
    }
   ],
   "source": [
    "# fill the gaps\n",
    "hasNans = True\n",
    "minimalNeighborCount = 5\n",
    "nanCount = 1e10\n",
    "\n",
    "for k in tqdm(range(50)):\n",
    "        nans = ahn_data[pd.isnull(ahn_data[\"height\"])]\n",
    "        hasNans = nans.shape[0] > 0\n",
    "        if not hasNans:\n",
    "            break\n",
    "        if nanCount*.95 <= nans.shape[0] and minimalNeighborCount > 1:\n",
    "            minimalNeighborCount -= 1\n",
    "        nanCount = nans.shape[0]    \n",
    "        print(nans.shape[0], minimalNeighborCount)\n",
    "\n",
    "        for idx, row in nans.iterrows():\n",
    "            neighbors = [\n",
    "                ahn_data[(ahn_data[\"x\"]==row[\"x\"]) & (ahn_data[\"y\"]==row[\"y\"]+1)],\n",
    "                ahn_data[(ahn_data[\"x\"]==row[\"x\"]+1) & (ahn_data[\"y\"]==row[\"y\"])],\n",
    "                ahn_data[(ahn_data[\"x\"]==row[\"x\"]) & (ahn_data[\"y\"]==row[\"y\"]-1)],\n",
    "                ahn_data[(ahn_data[\"x\"]==row[\"x\"]-1) & (ahn_data[\"y\"]==row[\"y\"])],\n",
    "                ahn_data[(ahn_data[\"x\"]==row[\"x\"]+1) & (ahn_data[\"y\"]==row[\"y\"]+1)],\n",
    "                ahn_data[(ahn_data[\"x\"]==row[\"x\"]+1) & (ahn_data[\"y\"]==row[\"y\"]-1)],\n",
    "                ahn_data[(ahn_data[\"x\"]==row[\"x\"]-1) & (ahn_data[\"y\"]==row[\"y\"]-1)],\n",
    "                ahn_data[(ahn_data[\"x\"]==row[\"x\"]-1) & (ahn_data[\"y\"]==row[\"y\"]+1)]\n",
    "            ]\n",
    "            heights = []\n",
    "            for n in neighbors:\n",
    "                if n.shape[0] == 0 or np.isnan(n[\"height\"].values[0]): continue\n",
    "                heights.append(n[\"height\"].values[0])\n",
    "            if len(heights) < minimalNeighborCount:\n",
    "                continue\n",
    "            ahn_data.at[idx, \"height\"] = np.median(heights)\n",
    "\n",
    "min_x = ahn_data[\"x\"].min()\n",
    "min_y = ahn_data[\"y\"].min()\n",
    "max_x = ahn_data[\"x\"].max()\n",
    "max_y = ahn_data[\"y\"].max()\n",
    "res = 0.5\n",
    "pixel_data = []"
   ]
  },
  {
   "cell_type": "code",
   "execution_count": null,
   "metadata": {},
   "outputs": [],
   "source": [
    "for x in range(int(((max_y - min_y)/res+2))):\n",
    "        pixel_data.append([0] * int(((max_x - min_x)/res+2)))\n",
    "\n",
    "for row in tqdm(ahn_data.iterrows()):\n",
    "    if np.isnan(row[1][\"height\"]):\n",
    "        continue\n",
    "\n",
    "res = .5\n",
    "x_index = int(round((row[1][\"x\"]-min_x)/res))\n",
    "y_index = int(round((max_y - row[1][\"y\"])/res))\n",
    "value = int(round((abs(row[1][\"height\"])*2550)**.5))\n",
    "value = 0 if value < 0 else 254 if value > 254 else value\n",
    "pixel_data[y_index][x_index] = value + 1\n",
    "pixel_data[y_index+1][x_index] = value + 1\n",
    "pixel_data[y_index][x_index+1] = value + 1\n",
    "pixel_data[y_index+1][x_index+1] = value + 1\n",
    "\n",
    "pixel_data = np.array([pixel_data], dtype=np.uint8)\n",
    "\n",
    "print(pixel_data.shape)\n",
    "\n",
    "meta = {\n",
    "        'driver': 'GTiff', \n",
    "        'dtype': 'uint8', \n",
    "        'nodata': 0.0, \n",
    "        'width': pixel_data.shape[2], \n",
    "        'height': pixel_data.shape[1], \n",
    "        'count': 1, \n",
    "        'crs': CRS.from_epsg(28992), \n",
    "        'transform': Affine(.5, 0.0, min_x, 0.0, -.5, max_y)\n",
    "}\n",
    "\n",
    "with rasterio.open(ahn_output, 'w', **meta) as outds:        \n",
    "    outds.write(pixel_data)"
   ]
  },
  {
   "cell_type": "code",
   "execution_count": null,
   "metadata": {},
   "outputs": [],
   "source": [
    "def add_to_tif(tif_file,ahn_outpath):\n",
    "    \n",
    "    src = rasterio.open(tif_file)\n",
    "\n",
    "    with rasterio.open(ahn_outpath, 'r') as inds:        \n",
    "        vegetation_height_data = inds.read(1)\n",
    "        vegetation_height_transform = inds.meta[\"transform\"]\n",
    "                        \n",
    "\n",
    "    channel_normalisation = normalize_parameters(src)\n",
    "    print(\"Channel remapping:\",  channel_normalisation)\n",
    "\n",
    "\n",
    "    \n",
    "    \n",
    "\n",
    "    with rasterio.open(os.path.join(in_path, input_filename)) as inds:\n",
    "        outpath = normalized_input_filename    \n",
    "        meta = inds.meta.copy()\n",
    "        meta[\"count\"] = 7\n",
    "        meta[\"dtype\"] = \"uint8\"\n",
    "        win = windows.Window(col_off=0, row_off=0, width=meta[\"width\"], height=meta[\"height\"])        \n",
    "        tile = inds.read(window=win) # TODO is this behaviour similar to inds.read() ? MW: yes\n",
    "        #ndvi = generate_ndvi_channel(tile)\n",
    "        normalized_tile = np.array(normalise(tile, channel_normalisation, meta[\"width\"], meta[\"height\"]))            \n",
    "        heightChannel = generate_vegetation_height_channel(vegetation_height_data, vegetation_height_transform, inds.meta[\"transform\"], meta[\"width\"], meta[\"height\"])\n",
    "        normalized_tile = np.append(normalized_tile, [heightChannel], axis=0)\n",
    "        #normalized_tile = np.append(normalized_tile, [ndvi], axis=0)\n",
    "        with rasterio.open(outpath, 'w', **meta) as outds:        \n",
    "            outds.write(normalized_tile)"
   ]
  }
 ],
 "metadata": {
  "kernelspec": {
   "display_name": "Python 3",
   "language": "python",
   "name": "python3"
  },
  "language_info": {
   "codemirror_mode": {
    "name": "ipython",
    "version": 3
   },
   "file_extension": ".py",
   "mimetype": "text/x-python",
   "name": "python",
   "nbconvert_exporter": "python",
   "pygments_lexer": "ipython3",
   "version": "3.7.3"
  }
 },
 "nbformat": 4,
 "nbformat_minor": 2
}
