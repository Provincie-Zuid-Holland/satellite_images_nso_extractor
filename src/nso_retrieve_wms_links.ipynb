{
 "cells": [
  {
   "cell_type": "code",
   "execution_count": 1,
   "metadata": {},
   "outputs": [
    {
     "name": "stderr",
     "output_type": "stream",
     "text": [
      "C:\\ProgramData\\Anaconda3\\lib\\site-packages\\geopandas\\_compat.py:115: UserWarning: The Shapely GEOS version (3.4.3-CAPI-1.8.3 r4285) is incompatible with the GEOS version PyGEOS was compiled with (3.10.0-CAPI-1.16.0). Conversions between both will be slow.\n",
      "  shapely_geos_version, geos_capi_version_string\n"
     ]
    }
   ],
   "source": [
    "import satellite_images_nso.api.nso_georegion as nso\n",
    "from satellite_images_nso._nso_data_extraction import nso_api\n",
    "import rasterio\n",
    "import numpy as np\n",
    "from matplotlib import pyplot as plt\n",
    "from rasterio.plot import show\n",
    "import glob"
   ]
  },
  {
   "cell_type": "markdown",
   "metadata": {},
   "source": [
    "# Search for satellite images in geojson and download links"
   ]
  },
  {
   "cell_type": "code",
   "execution_count": 2,
   "metadata": {
    "scrolled": false
   },
   "outputs": [],
   "source": [
    "# give path to geojson en output,!!!!! rewrite these directories to your file system!!!!\n",
    "path_geojson = \"C:/Users/pzhadmin/Documents/natura2000_coepelduynen.geojson\"\n",
    "output_path = \"E:/data/coepelduynen/\""
   ]
  },
  {
   "cell_type": "code",
   "execution_count": 3,
   "metadata": {},
   "outputs": [],
   "source": [
    "nso_username = 'micwin'\n",
    "nso_password = 'PlfcJr6fRqj84w=='\n",
    "\n",
    "# This method fetches all the download links to all the satelliet images which contain region in the geojson\n",
    "georegion = nso.nso_georegion(path_geojson,output_path,\\\n",
    "                              nso_username,\\\n",
    "                            nso_password)"
   ]
  },
  {
   "cell_type": "code",
   "execution_count": 9,
   "metadata": {},
   "outputs": [],
   "source": [
    "wmts_link = []\n",
    "\n",
    "for link in links:\n",
    "    if 'SV' in link[0] and '50cm' in link[0] and \"RGBI\" in link[0] and \"SV1-01\" in link[0] and \"_IRG\" not in links[1] :\n",
    "         wmts_link.append(link[1])"
   ]
  },
  {
   "cell_type": "code",
   "execution_count": 10,
   "metadata": {},
   "outputs": [
    {
     "data": {
      "text/plain": [
       "['https://tiles1.geoserve.eu/SuperView1_IRG/tileserver/20190422_111335_SV1-01_50cm_RD_8bit_IRG_Oegstgeest/wmts',\n",
       " 'https://tiles1.geoserve.eu/SuperView1/tileserver/20190422_111335_SV1-01_50cm_RD_8bit_RGB_Oegstgeest/wmts',\n",
       " 'https://tiles1.geoserve.eu/SuperView1_IRG/tileserver/20190308_111644_SV1-01_50cm_RD_8bit_IRG_Oegstgeest/wmts',\n",
       " 'https://tiles1.geoserve.eu/SuperView1/tileserver/20190308_111644_SV1-01_50cm_RD_8bit_RGB_Oegstgeest/wmts',\n",
       " 'https://tiles1.geoserve.eu/SuperView1_IRG/tileserver/20190302_105829_SV1-01_50cm_RD_8bit_IRG_KatwijkAanZee/wmts',\n",
       " 'https://tiles1.geoserve.eu/SuperView1/tileserver/20190302_105829_SV1-01_50cm_RD_8bit_RGB_KatwijkAanZee/wmts',\n",
       " 'https://tiles1.geoserve.eu/SuperView1_IRG/tileserver/20190302_105726_SV1-01_50cm_RD_8bit_IRG_Warmond/wmts',\n",
       " 'https://tiles1.geoserve.eu/SuperView1/tileserver/20190302_105726_SV1-01_50cm_RD_8bit_RGB_Warmond/wmts',\n",
       " 'https://tiles1.geoserve.eu/SuperView1_IRG/tileserver/20211226_103526_SV1-01_SV_RD_8bit_IRG_50cm_KatwijkAanZee/wmts',\n",
       " 'https://tiles1.geoserve.eu/SuperView1/tileserver/20211226_103526_SV1-01_SV_RD_8bit_RGB_50cm_KatwijkAanZee/wmts',\n",
       " 'https://tiles1.geoserve.eu/SuperView1_IRG/tileserver/20191130_110721_SV1-01_50cm_RD_8bit_IRG_Rijnsburg/wmts',\n",
       " 'https://tiles1.geoserve.eu/SuperView1/tileserver/20191130_110721_SV1-01_50cm_RD_8bit_RGB_Rijnsburg/wmts',\n",
       " 'https://tiles1.geoserve.eu/SuperView1_IRG/tileserver/20210423_104948_SV1-01_SV_RD_8bit_IRG_50cm_KatwijkAanZee/wmts',\n",
       " 'https://tiles1.geoserve.eu/SuperView1/tileserver/20210423_104948_SV1-01_SV_RD_8bit_RGB_50cm_KatwijkAanZee/wmts',\n",
       " 'https://tiles1.geoserve.eu/SuperView1_IRG/tileserver/20200508_110812_SV1-01_SV_RD_8bit_IRG_50cm_Rijnsburg/wmts',\n",
       " 'https://tiles1.geoserve.eu/SuperView1/tileserver/20200508_110812_SV1-01_SV_RD_8bit_RGB_50cm_Rijnsburg/wmts',\n",
       " 'https://tiles1.geoserve.eu/SuperView1/tileserver/20201231_105943_SV1-01_SV_RD_8bit_RGB_50cm_KatwijkAanZee/wmts',\n",
       " 'https://tiles1.geoserve.eu/SuperView1_IRG/tileserver/20210709_103835_SV1-01_SV_RD_8bit_IRG_50cm_KatwijkAanZee/wmts',\n",
       " 'https://tiles1.geoserve.eu/SuperView1/tileserver/20210709_103835_SV1-01_SV_RD_8bit_RGB_50cm_KatwijkAanZee/wmts']"
      ]
     },
     "execution_count": 10,
     "metadata": {},
     "output_type": "execute_result"
    }
   ],
   "source": [
    "wmts_link"
   ]
  }
 ],
 "metadata": {
  "interpreter": {
   "hash": "b3ba2566441a7c06988d0923437866b63cedc61552a5af99d1f4fb67d367b25f"
  },
  "kernelspec": {
   "display_name": "Python 3",
   "language": "python",
   "name": "python3"
  },
  "language_info": {
   "codemirror_mode": {
    "name": "ipython",
    "version": 3
   },
   "file_extension": ".py",
   "mimetype": "text/x-python",
   "name": "python",
   "nbconvert_exporter": "python",
   "pygments_lexer": "ipython3",
   "version": "3.7.3"
  }
 },
 "nbformat": 4,
 "nbformat_minor": 2
}
