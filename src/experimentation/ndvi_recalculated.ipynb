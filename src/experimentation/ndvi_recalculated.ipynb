{
 "cells": [
  {
   "cell_type": "code",
   "execution_count": 1,
   "metadata": {},
   "outputs": [
    {
     "name": "stderr",
     "output_type": "stream",
     "text": [
      "c:\\ProgramData\\Anaconda3\\lib\\site-packages\\geopandas\\_compat.py:115: UserWarning: The Shapely GEOS version (3.4.3-CAPI-1.8.3 r4285) is incompatible with the GEOS version PyGEOS was compiled with (3.10.0-CAPI-1.16.0). Conversions between both will be slow.\n",
      "  shapely_geos_version, geos_capi_version_string\n"
     ]
    }
   ],
   "source": [
    "import rasterio\n",
    "import tqdm\n",
    "import numpy as np\n",
    "import pandas as pd\n",
    "import glob\n",
    "from _manipulation import nso_manipulator"
   ]
  },
  {
   "cell_type": "markdown",
   "metadata": {},
   "source": [
    "# The were errors in our previous NDVI calculation this code is primary used to recalculate the NDVI on images that already had NDVI calculation done."
   ]
  },
  {
   "cell_type": "code",
   "execution_count": 2,
   "metadata": {},
   "outputs": [],
   "source": [
    "tif_input_file = \"E:/data/coepelduynen/20221111_111014_SV1-04_SV_RD_11bit_RGBI_50cm_Rijnsburg_natura2000_coepelduynen_cropped.tif\""
   ]
  },
  {
   "cell_type": "code",
   "execution_count": 3,
   "metadata": {},
   "outputs": [
    {
     "name": "stdout",
     "output_type": "stream",
     "text": [
      "Going to calculate NDVI:\n",
      "Generating NDVI channel...\n"
     ]
    },
    {
     "name": "stderr",
     "output_type": "stream",
     "text": [
      "100%|██████████| 6398/6398 [00:55<00:00, 115.28it/s]\n"
     ]
    },
    {
     "name": "stdout",
     "output_type": "stream",
     "text": [
      "Done with calculating NDVI, saving to: E:/data/coepelduynen/20221111_111014_SV1-04_SV_RD_11bit_RGBI_50cm_Rijnsburg_natura2000_coepelduynen_cropped_ndvi.tif\n"
     ]
    },
    {
     "data": {
      "text/plain": [
       "'E:/data/coepelduynen/20221111_111014_SV1-04_SV_RD_11bit_RGBI_50cm_Rijnsburg_natura2000_coepelduynen_cropped_ndvi.tif'"
      ]
     },
     "execution_count": 3,
     "metadata": {},
     "output_type": "execute_result"
    }
   ],
   "source": [
    "nso_manipulator.add_NDVI(tif_input_file)"
   ]
  },
  {
   "cell_type": "code",
   "execution_count": 4,
   "metadata": {},
   "outputs": [],
   "source": [
    "def generate_ndvi_channel(tile):\n",
    "        \"\"\"\n",
    "        Generate ndvi channel from 2 bands.\n",
    "        \n",
    "        @param tile: rgbi tile to calculate to the NDVI from.\n",
    "        @return a NDVI channel.\n",
    "        \"\"\"\n",
    "        print(\"Generating NDVI channel...\")\n",
    "        red = tile[0]\n",
    "        nir = tile[3]\n",
    "        ndvi = []\n",
    "\n",
    "        # None numpy way.\n",
    "        for i in tqdm.tqdm(range(len(red))):\n",
    "            ndvi_x = []\n",
    "            for x in range(len(red[i])):\n",
    "                upper_ndvi = (int(nir[i][x])-int(red[i][x]))\n",
    "                lower_ndvi = (int(nir[i][x])+int(red[i][x]))\n",
    "\n",
    "                if lower_ndvi == 0:\n",
    "                    ndvi_x.append(0)\n",
    "                else:\n",
    "                    ndvi_cur = upper_ndvi/lower_ndvi\n",
    "                    ndvi_cur = ndvi_cur\n",
    "                    ndvi_cur = (ndvi_cur*100)+100\n",
    "                    ndvi_x.append(int(ndvi_cur))\n",
    "            ndvi.append(ndvi_x)\n",
    "        return ndvi"
   ]
  },
  {
   "cell_type": "code",
   "execution_count": null,
   "metadata": {},
   "outputs": [],
   "source": [
    "       # for i in tqdm.tqdm(range(len(red))):\n",
    "       #         ndvi.append(np.nan_to_num(np.divide(np.subtract(nir[i],red[i]), (np.add(nir[i],red[i])+1e-10)))*255)  \n",
    "\n",
    "       # for i in tqdm.tqdm(range(len(red))):\n",
    "       #    ndvi.append((nir[i]-red[i])/(nir[i]+red[i]+1e-10)*255)"
   ]
  },
  {
   "cell_type": "code",
   "execution_count": 5,
   "metadata": {},
   "outputs": [
    {
     "data": {
      "text/plain": [
       "-229.5"
      ]
     },
     "execution_count": 5,
     "metadata": {},
     "output_type": "execute_result"
    }
   ],
   "source": [
    "(-0.9*255)"
   ]
  },
  {
   "cell_type": "code",
   "execution_count": 33,
   "metadata": {},
   "outputs": [],
   "source": [
    "def single_ndvi(r,nir):\n",
    "    upper_ndvi = (int(nir)-int(r))\n",
    "    lower_ndvi = (int(nir)+int(r))\n",
    "\n",
    "\n",
    "    ndvi_cur = upper_ndvi/lower_ndvi\n",
    "    print(ndvi_cur)\n",
    "    ndvi_cur = (ndvi_cur*100)+100\n",
    "    ndvi_cur = -1*ndvi_cur\n",
    "    return ndvi_cur"
   ]
  },
  {
   "cell_type": "code",
   "execution_count": 4,
   "metadata": {},
   "outputs": [],
   "source": [
    "def generate_ndvi_channel_pixel(tile):\n",
    "        \"\"\"8i\n",
    "        Generate ndvi channel from 2 bands.\n",
    "        \n",
    "        @param tile: rgbi tile to calculate to the NDVI from.\n",
    "        @return a NDVI channel.\n",
    "        \"\"\"\n",
    "        print(\"Generating NDVI channel...\")\n",
    "        red = tile[0]\n",
    "        nir = tile[3]\n",
    "        ndvi = ((nir-red)/(nir+red))\n",
    "        \n",
    "        \n",
    "        return np.array(ndvi, dtype=np.uint8)"
   ]
  },
  {
   "cell_type": "code",
   "execution_count": 8,
   "metadata": {},
   "outputs": [],
   "source": [
    "inds = rasterio.open(tif_input_file, 'r') \n",
    "meta = inds.meta\n",
    "tile = inds.read()"
   ]
  },
  {
   "cell_type": "code",
   "execution_count": 9,
   "metadata": {},
   "outputs": [
    {
     "data": {
      "text/plain": [
       "4"
      ]
     },
     "execution_count": 9,
     "metadata": {},
     "output_type": "execute_result"
    }
   ],
   "source": [
    "len(tile)"
   ]
  },
  {
   "cell_type": "code",
   "execution_count": 11,
   "metadata": {},
   "outputs": [
    {
     "name": "stdout",
     "output_type": "stream",
     "text": [
      "0\n",
      "1\n",
      "2\n",
      "3\n"
     ]
    }
   ],
   "source": [
    "for band in range(0,len(tile)):\n",
    "    print(band)"
   ]
  },
  {
   "cell_type": "code",
   "execution_count": 141,
   "metadata": {},
   "outputs": [
    {
     "data": {
      "text/plain": [
       "array([150.,   0., 180., 130.,  20.])"
      ]
     },
     "execution_count": 141,
     "metadata": {},
     "output_type": "execute_result"
    }
   ],
   "source": [
    "np.dot(np.array([0.5,-1,0.8,0.3,-0.8]),100)+100"
   ]
  },
  {
   "cell_type": "code",
   "execution_count": 137,
   "metadata": {},
   "outputs": [
    {
     "data": {
      "text/plain": [
       "-80.0"
      ]
     },
     "execution_count": 137,
     "metadata": {},
     "output_type": "execute_result"
    }
   ],
   "source": [
    "-0.8*100"
   ]
  },
  {
   "cell_type": "code",
   "execution_count": 108,
   "metadata": {},
   "outputs": [
    {
     "name": "stdout",
     "output_type": "stream",
     "text": [
      "(7141, 2173)\n",
      "(6989, 2672)\n",
      "(6953, 2380)\n",
      "(7567, 3055)\n"
     ]
    }
   ],
   "source": [
    "print(inds.index(62756.229,434953.688))\n",
    "print(inds.index(63005.874,435029.629))\n",
    "print(inds.index(62859.71,435047.90))\n",
    "print(inds.index(63197.28,434740.86))"
   ]
  },
  {
   "cell_type": "code",
   "execution_count": 194,
   "metadata": {},
   "outputs": [
    {
     "data": {
      "text/plain": [
       "142"
      ]
     },
     "execution_count": 194,
     "metadata": {},
     "output_type": "execute_result"
    }
   ],
   "source": [
    "ndvi[6989][2672]"
   ]
  },
  {
   "cell_type": "code",
   "execution_count": 206,
   "metadata": {},
   "outputs": [
    {
     "data": {
      "text/plain": [
       "137"
      ]
     },
     "execution_count": 206,
     "metadata": {},
     "output_type": "execute_result"
    }
   ],
   "source": [
    "ndvi[7567][3055]"
   ]
  },
  {
   "cell_type": "code",
   "execution_count": 205,
   "metadata": {},
   "outputs": [
    {
     "name": "stdout",
     "output_type": "stream",
     "text": [
      "275\n",
      "103\n",
      "54\n"
     ]
    }
   ],
   "source": [
    "print(tile[0][6953][2380])\n",
    "print(tile[3][6953][2380])\n",
    "print(ndvi[6953][2380])"
   ]
  },
  {
   "cell_type": "code",
   "execution_count": 96,
   "metadata": {},
   "outputs": [
    {
     "data": {
      "text/plain": [
       "[276, 189, 126, 103, 45, 0]"
      ]
     },
     "execution_count": 96,
     "metadata": {},
     "output_type": "execute_result"
    }
   ],
   "source": [
    "cor1 = [ band[inds.index(62756.229,434953.688)[0]][inds.index(62756.229,434953.688)[1]] for band in tile]\n",
    "cor1"
   ]
  },
  {
   "cell_type": "code",
   "execution_count": 97,
   "metadata": {},
   "outputs": [
    {
     "name": "stdout",
     "output_type": "stream",
     "text": [
      "[272, 190, 129, 110, 42, 0]\n"
     ]
    }
   ],
   "source": [
    "cor2 = [ band[inds.index(63005.874,435029.629)[0]][inds.index(63005.874,435029.629)[1]] for band in tile]\n",
    "print(cor2)"
   ]
  },
  {
   "cell_type": "code",
   "execution_count": 98,
   "metadata": {},
   "outputs": [
    {
     "name": "stdout",
     "output_type": "stream",
     "text": [
      "[275, 192, 131, 103, 45, 0]\n"
     ]
    }
   ],
   "source": [
    "#Water\n",
    "cor3 = [ band[inds.index(62859.71,435047.90)[0]][inds.index(62859.71,435047.90)[1]] for band in tile]\n",
    "print(cor3)"
   ]
  },
  {
   "cell_type": "code",
   "execution_count": 102,
   "metadata": {},
   "outputs": [
    {
     "name": "stdout",
     "output_type": "stream",
     "text": [
      "[318, 280, 210, 693, 45, 0]\n"
     ]
    }
   ],
   "source": [
    "#Gras\n",
    "cor4 = [ band[inds.index(63197.28,434740.86)[0]][inds.index(63197.28,434740.86)[1]] for band in tile]\n",
    "print(cor4)"
   ]
  },
  {
   "cell_type": "code",
   "execution_count": 152,
   "metadata": {},
   "outputs": [
    {
     "data": {
      "text/plain": [
       "54.4973544973545"
      ]
     },
     "execution_count": 152,
     "metadata": {},
     "output_type": "execute_result"
    }
   ],
   "source": [
    "((int(cor3[3])-int(cor3[0])))/((int(cor3[3])+int(cor3[0])))*100+100"
   ]
  },
  {
   "cell_type": "code",
   "execution_count": 149,
   "metadata": {},
   "outputs": [
    {
     "data": {
      "text/plain": [
       "37.0919881305638"
      ]
     },
     "execution_count": 149,
     "metadata": {},
     "output_type": "execute_result"
    }
   ],
   "source": [
    "((int(cor4[3])-int(cor4[0])))/((int(cor4[3])+int(cor4[0])))*100"
   ]
  },
  {
   "cell_type": "code",
   "execution_count": 36,
   "metadata": {},
   "outputs": [
    {
     "name": "stderr",
     "output_type": "stream",
     "text": [
      "c:\\ProgramData\\Anaconda3\\lib\\site-packages\\ipykernel_launcher.py:1: RuntimeWarning: overflow encountered in ushort_scalars\n",
      "  \"\"\"Entry point for launching an IPython kernel.\n"
     ]
    },
    {
     "data": {
      "text/plain": [
       "65364"
      ]
     },
     "execution_count": 36,
     "metadata": {},
     "output_type": "execute_result"
    }
   ],
   "source": [
    "cor3[3]-cor3[0]"
   ]
  },
  {
   "cell_type": "code",
   "execution_count": 26,
   "metadata": {},
   "outputs": [
    {
     "data": {
      "text/plain": [
       "-172"
      ]
     },
     "execution_count": 26,
     "metadata": {},
     "output_type": "execute_result"
    }
   ],
   "source": [
    "int(cor3[3])-int(cor3[0])"
   ]
  },
  {
   "cell_type": "code",
   "execution_count": null,
   "metadata": {},
   "outputs": [],
   "source": [
    "cor3[3]/cor3[0]"
   ]
  },
  {
   "cell_type": "code",
   "execution_count": 16,
   "metadata": {},
   "outputs": [
    {
     "name": "stdout",
     "output_type": "stream",
     "text": [
      "Generating NDVI channel...\n"
     ]
    },
    {
     "name": "stderr",
     "output_type": "stream",
     "text": [
      "c:\\ProgramData\\Anaconda3\\lib\\site-packages\\ipykernel_launcher.py:11: RuntimeWarning: overflow encountered in ushort_scalars\n",
      "  # This is added back by InteractiveShellApp.init_path()\n"
     ]
    },
    {
     "data": {
      "text/plain": [
       "array(172, dtype=uint8)"
      ]
     },
     "execution_count": 16,
     "metadata": {},
     "output_type": "execute_result"
    }
   ],
   "source": [
    "generate_ndvi_channel_pixel(cor3)"
   ]
  },
  {
   "cell_type": "code",
   "execution_count": 81,
   "metadata": {},
   "outputs": [
    {
     "ename": "NameError",
     "evalue": "name 'red' is not defined",
     "output_type": "error",
     "traceback": [
      "\u001b[1;31m---------------------------------------------------------------------------\u001b[0m",
      "\u001b[1;31mNameError\u001b[0m                                 Traceback (most recent call last)",
      "\u001b[1;32m<ipython-input-81-499e9f52abf7>\u001b[0m in \u001b[0;36m<module>\u001b[1;34m\u001b[0m\n\u001b[1;32m----> 1\u001b[1;33m \u001b[0mnp\u001b[0m\u001b[1;33m.\u001b[0m\u001b[0mdot\u001b[0m\u001b[1;33m(\u001b[0m\u001b[0mnp\u001b[0m\u001b[1;33m.\u001b[0m\u001b[0mnan_to_num\u001b[0m\u001b[1;33m(\u001b[0m\u001b[0mnp\u001b[0m\u001b[1;33m.\u001b[0m\u001b[0mdivide\u001b[0m\u001b[1;33m(\u001b[0m\u001b[0mnp\u001b[0m\u001b[1;33m.\u001b[0m\u001b[0msubtract\u001b[0m\u001b[1;33m(\u001b[0m\u001b[0mred\u001b[0m\u001b[1;33m[\u001b[0m\u001b[0mi\u001b[0m\u001b[1;33m]\u001b[0m\u001b[1;33m,\u001b[0m\u001b[0mnir\u001b[0m\u001b[1;33m[\u001b[0m\u001b[0mi\u001b[0m\u001b[1;33m]\u001b[0m\u001b[1;33m)\u001b[0m\u001b[1;33m,\u001b[0m\u001b[0mnp\u001b[0m\u001b[1;33m.\u001b[0m\u001b[0madd\u001b[0m\u001b[1;33m(\u001b[0m\u001b[0mred\u001b[0m\u001b[1;33m[\u001b[0m\u001b[0mi\u001b[0m\u001b[1;33m]\u001b[0m\u001b[1;33m,\u001b[0m\u001b[0mnir\u001b[0m\u001b[1;33m[\u001b[0m\u001b[0mi\u001b[0m\u001b[1;33m]\u001b[0m\u001b[1;33m)\u001b[0m\u001b[1;33m)\u001b[0m\u001b[1;33m)\u001b[0m\u001b[1;33m,\u001b[0m\u001b[1;36m100\u001b[0m\u001b[1;33m)\u001b[0m\u001b[1;33m\u001b[0m\u001b[1;33m\u001b[0m\u001b[0m\n\u001b[0m",
      "\u001b[1;31mNameError\u001b[0m: name 'red' is not defined"
     ]
    }
   ],
   "source": [
    "np.dot(np.nan_to_num(np.divide(np.subtract(red[i],nir[i]),np.add(red[i],nir[i]))),100)"
   ]
  },
  {
   "cell_type": "code",
   "execution_count": 202,
   "metadata": {},
   "outputs": [
    {
     "name": "stdout",
     "output_type": "stream",
     "text": [
      "Generating NDVI channel...\n"
     ]
    },
    {
     "name": "stderr",
     "output_type": "stream",
     "text": [
      "100%|██████████| 21870/21870 [19:34<00:00, 18.63it/s] \n"
     ]
    }
   ],
   "source": [
    "ndvi = generate_ndvi_channel(tile)"
   ]
  },
  {
   "cell_type": "code",
   "execution_count": 203,
   "metadata": {},
   "outputs": [
    {
     "name": "stdout",
     "output_type": "stream",
     "text": [
      "E:/data/voornesduin/20220324_111044_SV1-03_SV_RD_11bit_RGBI_50cm_Rockanje_Voornes Duin_diss_sing_wgs84_cropped_ndvi2_height3.tif\n"
     ]
    }
   ],
   "source": [
    "inds.close()\n",
    "file_to = tif_input_file_ndvi_height.replace(\".tif\",\"3.tif\")#.split(\"/\")[-1]\n",
    "print(file_to)\n",
    "  \n",
    " \n",
    "with rasterio.open(tif_input_file_ndvi_heigh_3, 'w', **meta) as outds:        \n",
    "                outds.write_band(1,tile[0])\n",
    "                outds.write_band(2,tile[1])\n",
    "                outds.write_band(3,tile[2])\n",
    "                outds.write_band(4,tile[3])\n",
    "                outds.write_band(5,np.array(ndvi))\n",
    "                outds.write_band(6,tile[5])\n",
    "                outds.close()\n",
    "  \n",
    "inds.close() "
   ]
  },
  {
   "cell_type": "code",
   "execution_count": 5,
   "metadata": {},
   "outputs": [],
   "source": [
    "inds = rasterio.open(\"E:/data/coepelduynen/20190302_105726_SV1-01_50cm_RD_11bit_RGBI_Warmond_natura2000_coepelduynen_cropped_ndvi_height.tif\", 'r') \n",
    "meta = inds.meta\n",
    "tile = inds.read()"
   ]
  },
  {
   "cell_type": "code",
   "execution_count": 14,
   "metadata": {},
   "outputs": [
    {
     "name": "stdout",
     "output_type": "stream",
     "text": [
      "0.2145214521452145\n"
     ]
    },
    {
     "data": {
      "text/plain": [
       "121.45214521452145"
      ]
     },
     "execution_count": 14,
     "metadata": {},
     "output_type": "execute_result"
    }
   ],
   "source": [
    "single_ndvi(cor1[0],cor1[3])"
   ]
  },
  {
   "cell_type": "code",
   "execution_count": 28,
   "metadata": {},
   "outputs": [
    {
     "data": {
      "text/plain": [
       "[595, 661, 703, 920, 121, 1]"
      ]
     },
     "execution_count": 28,
     "metadata": {},
     "output_type": "execute_result"
    }
   ],
   "source": [
    "# Zand\n",
    "cor1 = [ band[inds.index(88718.11,471440.39)[0]][inds.index(88718.11,471440.39)[1]] for band in tile]\n",
    "cor1"
   ]
  },
  {
   "cell_type": "code",
   "execution_count": 32,
   "metadata": {},
   "outputs": [
    {
     "name": "stdout",
     "output_type": "stream",
     "text": [
      "0.2145214521452145\n"
     ]
    },
    {
     "data": {
      "text/plain": [
       "121.45214521452145"
      ]
     },
     "execution_count": 32,
     "metadata": {},
     "output_type": "execute_result"
    }
   ],
   "source": [
    "single_ndvi(cor1[0],cor1[3])"
   ]
  },
  {
   "cell_type": "code",
   "execution_count": 15,
   "metadata": {},
   "outputs": [],
   "source": [
    "# Bos\n",
    "cor2 = [ band[inds.index(88783.68,471327.20)[0]][inds.index(88783.68,471327.20)[1]] for band in tile]"
   ]
  },
  {
   "cell_type": "code",
   "execution_count": 21,
   "metadata": {},
   "outputs": [],
   "source": [
    "#bos2\n",
    "cor3 = [ band[inds.index(88154.07,470107.43)[0]][inds.index(88154.07,470107.43)[1]] for band in tile]"
   ]
  },
  {
   "cell_type": "code",
   "execution_count": 16,
   "metadata": {},
   "outputs": [
    {
     "name": "stdout",
     "output_type": "stream",
     "text": [
      "-0.08184143222506395\n"
     ]
    },
    {
     "data": {
      "text/plain": [
       "91.81585677749361"
      ]
     },
     "execution_count": 16,
     "metadata": {},
     "output_type": "execute_result"
    }
   ],
   "source": [
    "single_ndvi(cor2[0],cor2[3])"
   ]
  },
  {
   "cell_type": "code",
   "execution_count": 27,
   "metadata": {},
   "outputs": [
    {
     "name": "stdout",
     "output_type": "stream",
     "text": [
      "-0.19543509272467904\n"
     ]
    },
    {
     "data": {
      "text/plain": [
       "80.4564907275321"
      ]
     },
     "execution_count": 27,
     "metadata": {},
     "output_type": "execute_result"
    }
   ],
   "source": [
    "single_ndvi(cor3[0],cor3[3])"
   ]
  },
  {
   "cell_type": "code",
   "execution_count": 10,
   "metadata": {},
   "outputs": [],
   "source": [
    "meta = rasterio.open(\"E:/data/coepelduynen/20220515_113347_SV1-02_SV_RD_11bit_RGBI_50cm_KatwijkAanZee_natura2000_coepelduynen_cropped_ndvi_height.tif\", 'r').meta"
   ]
  },
  {
   "cell_type": "code",
   "execution_count": 14,
   "metadata": {},
   "outputs": [
    {
     "name": "stdout",
     "output_type": "stream",
     "text": [
      "E:/data/coepelduynen\\20200304_114601_SV1-02_SV_RD_11bit_RGBI_50cm_Oegstgeest_natura2000_coepelduynen_cropped_ndvi_height.tif\n",
      "Generating NDVI channel...\n"
     ]
    },
    {
     "name": "stderr",
     "output_type": "stream",
     "text": [
      "100%|██████████| 6398/6398 [01:06<00:00, 96.06it/s] \n"
     ]
    },
    {
     "name": "stdout",
     "output_type": "stream",
     "text": [
      "E:/data/coepelduynen\\20200323_112115_SV1-03_SV_RD_11bit_RGBI_50cm_Oegstgeest_natura2000_coepelduynen_cropped_ndvi_height.tif\n",
      "Generating NDVI channel...\n"
     ]
    },
    {
     "name": "stderr",
     "output_type": "stream",
     "text": [
      "100%|██████████| 6398/6398 [01:12<00:00, 88.81it/s] \n"
     ]
    },
    {
     "name": "stdout",
     "output_type": "stream",
     "text": [
      "E:/data/coepelduynen\\20200326_114323_SV1-02_SV_RD_11bit_RGBI_50cm_Oegstgeest_natura2000_coepelduynen_cropped_ndvi_height.tif\n",
      "Generating NDVI channel...\n"
     ]
    },
    {
     "name": "stderr",
     "output_type": "stream",
     "text": [
      "100%|██████████| 6398/6398 [01:05<00:00, 97.71it/s] \n"
     ]
    },
    {
     "name": "stdout",
     "output_type": "stream",
     "text": [
      "E:/data/coepelduynen\\20200508_110812_SV1-01_SV_RD_11bit_RGBI_50cm_Rijnsburg_natura2000_coepelduynen_cropped_ndvi_height.tif\n",
      "Generating NDVI channel...\n"
     ]
    },
    {
     "name": "stderr",
     "output_type": "stream",
     "text": [
      "100%|██████████| 6398/6398 [01:11<00:00, 89.51it/s] \n"
     ]
    },
    {
     "name": "stdout",
     "output_type": "stream",
     "text": [
      "E:/data/coepelduynen\\20200625_112015_SV1-03_SV_RD_11bit_RGBI_50cm_Rijnsburg_natura2000_coepelduynen_cropped_ndvi_height.tif\n",
      "Generating NDVI channel...\n"
     ]
    },
    {
     "name": "stderr",
     "output_type": "stream",
     "text": [
      "100%|██████████| 6398/6398 [01:03<00:00, 101.52it/s]\n"
     ]
    },
    {
     "name": "stdout",
     "output_type": "stream",
     "text": [
      "E:/data/coepelduynen\\20200731_112003_SV1-03_SV_RD_11bit_RGBI_50cm_Rijnsburg_natura2000_coepelduynen_cropped_ndvi_height.tif\n",
      "Generating NDVI channel...\n"
     ]
    },
    {
     "name": "stderr",
     "output_type": "stream",
     "text": [
      "100%|██████████| 6398/6398 [01:08<00:00, 93.79it/s] \n"
     ]
    },
    {
     "name": "stdout",
     "output_type": "stream",
     "text": [
      "E:/data/coepelduynen\\20200915_112329_SV1-04_SV_RD_11bit_RGBI_50cm_KatwijkAanZee_natura2000_coepelduynen_cropped_ndvi_height.tif\n",
      "Generating NDVI channel...\n"
     ]
    },
    {
     "name": "stderr",
     "output_type": "stream",
     "text": [
      "100%|██████████| 6398/6398 [01:01<00:00, 103.22it/s]\n"
     ]
    },
    {
     "name": "stdout",
     "output_type": "stream",
     "text": [
      "E:/data/coepelduynen\\20201231_105943_SV1-01_SV_RD_11bit_RGBI_50cm_KatwijkAanZee_natura2000_coepelduynen_cropped_ndvi_height.tif\n",
      "Generating NDVI channel...\n"
     ]
    },
    {
     "name": "stderr",
     "output_type": "stream",
     "text": [
      "100%|██████████| 6398/6398 [00:59<00:00, 107.94it/s]\n"
     ]
    },
    {
     "name": "stdout",
     "output_type": "stream",
     "text": [
      "E:/data/coepelduynen\\20210302_111247_SV1-03_SV_RD_11bit_RGBI_50cm_KatwijkAanZee_natura2000_coepelduynen_cropped_ndvi_height.tif\n",
      "Generating NDVI channel...\n"
     ]
    },
    {
     "name": "stderr",
     "output_type": "stream",
     "text": [
      "100%|██████████| 6398/6398 [00:58<00:00, 108.78it/s]\n"
     ]
    },
    {
     "name": "stdout",
     "output_type": "stream",
     "text": [
      "E:/data/coepelduynen\\20210423_104948_SV1-01_SV_RD_11bit_RGBI_50cm_KatwijkAanZee_natura2000_coepelduynen_cropped_ndvi_height.tif\n",
      "Generating NDVI channel...\n"
     ]
    },
    {
     "name": "stderr",
     "output_type": "stream",
     "text": [
      "100%|██████████| 6398/6398 [00:58<00:00, 108.57it/s]\n"
     ]
    },
    {
     "name": "stdout",
     "output_type": "stream",
     "text": [
      "E:/data/coepelduynen\\20210709_103835_SV1-01_SV_RD_11bit_RGBI_50cm_KatwijkAanZee_natura2000_coepelduynen_cropped_ndvi_height.tif\n",
      "Generating NDVI channel...\n"
     ]
    },
    {
     "name": "stderr",
     "output_type": "stream",
     "text": [
      "100%|██████████| 6398/6398 [00:58<00:00, 109.25it/s]\n"
     ]
    },
    {
     "name": "stdout",
     "output_type": "stream",
     "text": [
      "E:/data/coepelduynen\\20210815_111051_SV1-03_SV_RD_11bit_RGBI_50cm_Oegstgeest_natura2000_coepelduynen_cropped_ndvi_height.tif\n",
      "Generating NDVI channel...\n"
     ]
    },
    {
     "name": "stderr",
     "output_type": "stream",
     "text": [
      "100%|██████████| 6398/6398 [00:58<00:00, 109.69it/s]\n"
     ]
    },
    {
     "name": "stdout",
     "output_type": "stream",
     "text": [
      "E:/data/coepelduynen\\20210907_112017_SV1-04_SV_RD_11bit_RGBI_50cm_KatwijkAanZee_natura2000_coepelduynen_cropped_ndvi_height.tif\n",
      "Generating NDVI channel...\n"
     ]
    },
    {
     "name": "stderr",
     "output_type": "stream",
     "text": [
      "100%|██████████| 6398/6398 [00:58<00:00, 109.15it/s]\n"
     ]
    },
    {
     "name": "stdout",
     "output_type": "stream",
     "text": [
      "E:/data/coepelduynen\\20211226_103526_SV1-01_SV_RD_11bit_RGBI_50cm_KatwijkAanZee_natura2000_coepelduynen_cropped_ndvi_height.tif\n",
      "Generating NDVI channel...\n"
     ]
    },
    {
     "name": "stderr",
     "output_type": "stream",
     "text": [
      "100%|██████████| 6398/6398 [00:59<00:00, 108.20it/s]\n"
     ]
    },
    {
     "name": "stdout",
     "output_type": "stream",
     "text": [
      "E:/data/coepelduynen\\20220302_112108_SV1-04_SV_RD_11bit_RGBI_50cm_Rijnsburg_natura2000_coepelduynen_cropped_ndvi_height.tif\n",
      "Generating NDVI channel...\n"
     ]
    },
    {
     "name": "stderr",
     "output_type": "stream",
     "text": [
      "100%|██████████| 6398/6398 [00:58<00:00, 109.51it/s]\n"
     ]
    },
    {
     "name": "stdout",
     "output_type": "stream",
     "text": [
      "E:/data/coepelduynen\\20220501_111418_SV1-03_SV_RD_11bit_RGBI_50cm_Rijnsburg_natura2000_coepelduynen_cropped_ndvi_height.tif\n",
      "Generating NDVI channel...\n"
     ]
    },
    {
     "name": "stderr",
     "output_type": "stream",
     "text": [
      "100%|██████████| 6398/6398 [00:58<00:00, 109.25it/s]\n"
     ]
    },
    {
     "name": "stdout",
     "output_type": "stream",
     "text": [
      "E:/data/coepelduynen\\20220514_114854_SV1-02_SV_RD_11bit_RGBI_50cm_Rijnsburg_natura2000_coepelduynen_cropped_ndvi_height.tif\n",
      "Generating NDVI channel...\n"
     ]
    },
    {
     "name": "stderr",
     "output_type": "stream",
     "text": [
      "100%|██████████| 6398/6398 [00:59<00:00, 107.17it/s]\n"
     ]
    },
    {
     "name": "stdout",
     "output_type": "stream",
     "text": [
      "E:/data/coepelduynen\\20220515_113347_SV1-02_SV_RD_11bit_RGBI_50cm_KatwijkAanZee_natura2000_coepelduynen_cropped_ndvi_height.tif\n",
      "Generating NDVI channel...\n"
     ]
    },
    {
     "name": "stderr",
     "output_type": "stream",
     "text": [
      "100%|██████████| 6398/6398 [00:59<00:00, 108.00it/s]\n"
     ]
    },
    {
     "name": "stdout",
     "output_type": "stream",
     "text": [
      "E:/data/coepelduynen\\20220816_111150_SV2-01_SV_RD_11bit_RGBI_50cm_Scheveningen_natura2000_coepelduynen_cropped_ndvi_height.tif\n",
      "Generating NDVI channel...\n"
     ]
    },
    {
     "name": "stderr",
     "output_type": "stream",
     "text": [
      "100%|██████████| 6398/6398 [00:59<00:00, 107.70it/s]\n"
     ]
    }
   ],
   "source": [
    "for file in glob.glob(\"E:/data/coepelduynen/202*ndvi_height.tif\"):\n",
    "    file.replace(\"\\\\\",\"/\")\n",
    "    print(file)\n",
    "    inds = rasterio.open(file, 'r') \n",
    "    tile = inds.read()\n",
    "\n",
    "    ndvi = generate_ndvi_channel(tile)\n",
    "        \n",
    "    inds.close()\n",
    "\n",
    "    with rasterio.open(file, 'w', **meta) as outds:\n",
    "            outds.write_band(1,tile[0])\n",
    "            outds.write_band(2,tile[1])\n",
    "            outds.write_band(3,tile[2])\n",
    "            outds.write_band(4,tile[3])\n",
    "            outds.write_band(5,np.array(ndvi,dtype=np.uint8))\n",
    "            outds.write_band(6,tile[5])\n",
    "            outds.close()\n",
    "  \n",
    "    inds.close() "
   ]
  }
 ],
 "metadata": {
  "kernelspec": {
   "display_name": "Python 3.7.3 ('base')",
   "language": "python",
   "name": "python3"
  },
  "language_info": {
   "codemirror_mode": {
    "name": "ipython",
    "version": 3
   },
   "file_extension": ".py",
   "mimetype": "text/x-python",
   "name": "python",
   "nbconvert_exporter": "python",
   "pygments_lexer": "ipython3",
   "version": "3.7.3"
  },
  "orig_nbformat": 4,
  "vscode": {
   "interpreter": {
    "hash": "ad2bdc8ecc057115af97d19610ffacc2b4e99fae6737bb82f5d7fb13d2f2c186"
   }
  }
 },
 "nbformat": 4,
 "nbformat_minor": 2
}
