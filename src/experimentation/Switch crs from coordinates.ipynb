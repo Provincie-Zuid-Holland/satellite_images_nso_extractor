{
 "cells": [
  {
   "cell_type": "code",
   "execution_count": 5,
   "metadata": {},
   "outputs": [],
   "source": [
    "import geopandas as gpd\n",
    "import pandas as pd\n",
    "from shapely import wkt"
   ]
  },
  {
   "cell_type": "code",
   "execution_count": 6,
   "metadata": {},
   "outputs": [],
   "source": [
    "def switch_crs(list_lat, list_long,crs_from, crs_to):\n",
    "    df = pd.DataFrame(\n",
    "    {\n",
    "     'Latitude_orginal': list_lat,\n",
    "     'Longitude_orginal': list_long})\n",
    "    \n",
    "    gdf = gpd.GeoDataFrame(\n",
    "    df, geometry=gpd.points_from_xy(df.Longitude_orginal, df.Latitude_orginal))\n",
    "    gdf = gdf.set_crs(crs_from, allow_override=True)\n",
    "    gdf = gdf.to_crs(epsg=crs_to)\n",
    "    \n",
    "\n",
    "    wkt.dumps(gdf['geometry'][0]).split(\" \")[-1].replace(\")\",\"\")\n",
    "    return float(wkt.dumps(gdf['geometry'][0]).split(\" \")[-1].replace(\"(\",\"\").replace(\")\",\"\")),float(wkt.dumps(gdf['geometry'][0]).split(\" \")[-2].replace(\"(\",\"\")), gdf"
   ]
  },
  {
   "cell_type": "code",
   "execution_count": 10,
   "metadata": {},
   "outputs": [
    {
     "data": {
      "text/plain": [
       "(52.3427591021014,\n",
       " 4.532430573705696,\n",
       "    Latitude_orginal  Longitude_orginal                  geometry\n",
       " 0         484214.75           96751.25  POINT (4.53243 52.34276))"
      ]
     },
     "execution_count": 10,
     "metadata": {},
     "output_type": "execute_result"
    }
   ],
   "source": [
    "switch_crs([484214.75], [96751.25], 28992,4326 )"
   ]
  },
  {
   "cell_type": "code",
   "execution_count": 31,
   "metadata": {},
   "outputs": [
    {
     "data": {
      "text/plain": [
       "'4.5279914383798365'"
      ]
     },
     "execution_count": 31,
     "metadata": {},
     "output_type": "execute_result"
    }
   ],
   "source": [
    "wkt.dumps(point['geometry'][0]).split(\" \")[-2].replace(\"(\",\"\")"
   ]
  },
  {
   "cell_type": "code",
   "execution_count": 32,
   "metadata": {},
   "outputs": [
    {
     "data": {
      "text/plain": [
       "'(4.5279914383798365'"
      ]
     },
     "execution_count": 32,
     "metadata": {},
     "output_type": "execute_result"
    }
   ],
   "source": [
    "wkt.dumps(point['geometry'][0]).split(\" \")[-2].replace(\")\",\"\")"
   ]
  },
  {
   "cell_type": "code",
   "execution_count": 19,
   "metadata": {},
   "outputs": [
    {
     "data": {
      "text/plain": [
       "'{\"type\": \"FeatureCollection\", \"features\": [{\"id\": \"0\", \"type\": \"Feature\", \"properties\": {\"Latitude\": 52.3290551087864, \"Longitude\": 4.527150859481948}, \"geometry\": {\"type\": \"Point\", \"coordinates\": [96373.3815420349, 482694.3201113092]}}]}'"
      ]
     },
     "execution_count": 19,
     "metadata": {},
     "output_type": "execute_result"
    }
   ],
   "source": [
    "gdf.to_json()"
   ]
  },
  {
   "cell_type": "code",
   "execution_count": 5,
   "metadata": {},
   "outputs": [],
   "source": [
    "gdf = gpd.read_file(\"C:/Users/pzhadmin/Documents/natura2000_coepelduynen.geojson\")"
   ]
  },
  {
   "cell_type": "code",
   "execution_count": 8,
   "metadata": {},
   "outputs": [],
   "source": [
    "gdf = gdf.to_crs(epsg=4326)"
   ]
  },
  {
   "cell_type": "code",
   "execution_count": 10,
   "metadata": {},
   "outputs": [],
   "source": [
    "gdf.to_file(\"C:/Users/pzhadmin/Documents/natura2000_coepelduynen.geojson\", driver='GeoJSON') "
   ]
  }
 ],
 "metadata": {
  "kernelspec": {
   "display_name": "Python 3",
   "language": "python",
   "name": "python3"
  },
  "language_info": {
   "codemirror_mode": {
    "name": "ipython",
    "version": 3
   },
   "file_extension": ".py",
   "mimetype": "text/x-python",
   "name": "python",
   "nbconvert_exporter": "python",
   "pygments_lexer": "ipython3",
   "version": "3.7.3"
  }
 },
 "nbformat": 4,
 "nbformat_minor": 2
}
