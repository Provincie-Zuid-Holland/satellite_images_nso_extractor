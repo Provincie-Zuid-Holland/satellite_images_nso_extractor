{
 "cells": [
  {
   "cell_type": "markdown",
   "metadata": {},
   "source": [
    "# Add Channels \n",
    "\n",
    "This notebook is used to add channels to .tif files after they have been downloaded, such as NDVI or NDWI.\n",
    "Implementation of nso_manipulator."
   ]
  },
  {
   "cell_type": "code",
   "execution_count": 1,
   "metadata": {},
   "outputs": [],
   "source": [
    "import satellite_images_nso._manipulation.nso_manipulator as nso_manipulator\n",
    "import glob\n",
    "import add_chennels_settings"
   ]
  },
  {
   "cell_type": "code",
   "execution_count": 2,
   "metadata": {},
   "outputs": [],
   "source": [
    "directory_regex = add_chennels_settings.directory_regex"
   ]
  },
  {
   "cell_type": "code",
   "execution_count": 3,
   "metadata": {},
   "outputs": [
    {
     "name": "stdout",
     "output_type": "stream",
     "text": [
      "E:/data/nieuwkoopse_plassen\\20200713_111443_SV1-04_SV_RD_11bit_RGBI_50cm_Nieuwveen_Nieuwkoopse Plassen & De Haeck_cropped.tif\n",
      "Generating NDWI channel...\n"
     ]
    },
    {
     "name": "stderr",
     "output_type": "stream",
     "text": [
      "c:\\ProgramData\\Anaconda3\\envs\\py310\\envs\\py312\\Lib\\site-packages\\satellite_images_nso\\_index_channels\\calculate_index_channels.py:75: RuntimeWarning: invalid value encountered in divide\n",
      "  ndwi = (green - near_infra_red) / (near_infra_red + green) * 100 + 100\n"
     ]
    },
    {
     "name": "stdout",
     "output_type": "stream",
     "text": [
      "Done with calculating ndwi channel\n",
      "Saving to E:/data/nieuwkoopse_plassen\\20200713_111443_SV1-04_SV_RD_11bit_RGBI_50cm_Nieuwveen_Nieuwkoopse Plassen & De Haeck_cropped_ndwi.tif\n",
      "Generating RE_NDVI channel...\n"
     ]
    },
    {
     "name": "stderr",
     "output_type": "stream",
     "text": [
      "c:\\ProgramData\\Anaconda3\\envs\\py310\\envs\\py312\\Lib\\site-packages\\satellite_images_nso\\_index_channels\\calculate_index_channels.py:58: RuntimeWarning: invalid value encountered in divide\n",
      "  re_ndvi = (red_edge - red) / (red_edge + red) * 100 + 100\n"
     ]
    },
    {
     "name": "stdout",
     "output_type": "stream",
     "text": [
      "Done with calculating re_ndvi channel\n",
      "Saving to E:/data/nieuwkoopse_plassen\\20200713_111443_SV1-04_SV_RD_11bit_RGBI_50cm_Nieuwveen_Nieuwkoopse Plassen & De Haeck_cropped_ndwi_re_ndvi.tif\n",
      "E:/data/nieuwkoopse_plassen\\20200713_111445_SV1-04_SV_RD_11bit_RGBI_50cm_Boskoop_Nieuwkoopse Plassen & De Haeck_cropped.tif\n",
      "Generating NDWI channel...\n",
      "Done with calculating ndwi channel\n",
      "Saving to E:/data/nieuwkoopse_plassen\\20200713_111445_SV1-04_SV_RD_11bit_RGBI_50cm_Boskoop_Nieuwkoopse Plassen & De Haeck_cropped_ndwi.tif\n",
      "Generating RE_NDVI channel...\n",
      "Done with calculating re_ndvi channel\n",
      "Saving to E:/data/nieuwkoopse_plassen\\20200713_111445_SV1-04_SV_RD_11bit_RGBI_50cm_Boskoop_Nieuwkoopse Plassen & De Haeck_cropped_ndwi_re_ndvi.tif\n",
      "E:/data/nieuwkoopse_plassen\\20200812_111845_SV1-02_SV_RD_11bit_RGBI_50cm_VinkeveensePlassen_Nieuwkoopse Plassen & De Haeck_cropped.tif\n",
      "Generating NDWI channel...\n",
      "Done with calculating ndwi channel\n",
      "Saving to E:/data/nieuwkoopse_plassen\\20200812_111845_SV1-02_SV_RD_11bit_RGBI_50cm_VinkeveensePlassen_Nieuwkoopse Plassen & De Haeck_cropped_ndwi.tif\n",
      "Generating RE_NDVI channel...\n",
      "Done with calculating re_ndvi channel\n",
      "Saving to E:/data/nieuwkoopse_plassen\\20200812_111845_SV1-02_SV_RD_11bit_RGBI_50cm_VinkeveensePlassen_Nieuwkoopse Plassen & De Haeck_cropped_ndwi_re_ndvi.tif\n",
      "E:/data/nieuwkoopse_plassen\\20210614_111316_SV1-03_SV_RD_11bit_RGBI_50cm_Nieuwveen_Nieuwkoopse Plassen & De Haeck_cropped.tif\n",
      "Generating NDWI channel...\n",
      "Done with calculating ndwi channel\n",
      "Saving to E:/data/nieuwkoopse_plassen\\20210614_111316_SV1-03_SV_RD_11bit_RGBI_50cm_Nieuwveen_Nieuwkoopse Plassen & De Haeck_cropped_ndwi.tif\n",
      "Generating RE_NDVI channel...\n",
      "Done with calculating re_ndvi channel\n",
      "Saving to E:/data/nieuwkoopse_plassen\\20210614_111316_SV1-03_SV_RD_11bit_RGBI_50cm_Nieuwveen_Nieuwkoopse Plassen & De Haeck_cropped_ndwi_re_ndvi.tif\n",
      "E:/data/nieuwkoopse_plassen\\20210614_111318_SV1-03_SV_RD_11bit_RGBI_50cm_Boskoop_Nieuwkoopse Plassen & De Haeck_cropped.tif\n",
      "Generating NDWI channel...\n",
      "Done with calculating ndwi channel\n",
      "Saving to E:/data/nieuwkoopse_plassen\\20210614_111318_SV1-03_SV_RD_11bit_RGBI_50cm_Boskoop_Nieuwkoopse Plassen & De Haeck_cropped_ndwi.tif\n",
      "Generating RE_NDVI channel...\n",
      "Done with calculating re_ndvi channel\n",
      "Saving to E:/data/nieuwkoopse_plassen\\20210614_111318_SV1-03_SV_RD_11bit_RGBI_50cm_Boskoop_Nieuwkoopse Plassen & De Haeck_cropped_ndwi_re_ndvi.tif\n",
      "E:/data/nieuwkoopse_plassen\\20210617_111534_SV1-04_SV_RD_11bit_RGBI_50cm_Woerden_Nieuwkoopse Plassen & De Haeck_cropped.tif\n",
      "Generating NDWI channel...\n",
      "Done with calculating ndwi channel\n",
      "Saving to E:/data/nieuwkoopse_plassen\\20210617_111534_SV1-04_SV_RD_11bit_RGBI_50cm_Woerden_Nieuwkoopse Plassen & De Haeck_cropped_ndwi.tif\n",
      "Generating RE_NDVI channel...\n",
      "Done with calculating re_ndvi channel\n",
      "Saving to E:/data/nieuwkoopse_plassen\\20210617_111534_SV1-04_SV_RD_11bit_RGBI_50cm_Woerden_Nieuwkoopse Plassen & De Haeck_cropped_ndwi_re_ndvi.tif\n"
     ]
    }
   ],
   "source": [
    "# For PNEO Satellites\n",
    "for afile in glob.glob(directory_regex):\n",
    "    print(afile)\n",
    "    file_saved = nso_manipulator.add_index_channels(afile, [\"ndwi\"])\n",
    "    nso_manipulator.add_index_channels(file_saved, [\"re_ndvi\"])"
   ]
  },
  {
   "cell_type": "code",
   "execution_count": 4,
   "metadata": {},
   "outputs": [
    {
     "name": "stdout",
     "output_type": "stream",
     "text": [
      "E:/data/nieuwkoopse_plassen\\20210423_111111_SV1-04_SV_RD_11bit_RGBI_50cm_Nieuwkoop_Nieuwkoopse_Plassen_De_Haeck_cropped.tif\n",
      "Generating NDWI channel...\n",
      "Done with calculating ndwi channel\n",
      "Saving to E:/data/nieuwkoopse_plassen\\20210423_111111_SV1-04_SV_RD_11bit_RGBI_50cm_Nieuwkoop_Nieuwkoopse_Plassen_De_Haeck_cropped_ndwi.tif\n",
      "Generating NDVI channel...\n",
      "Done with calculating ndvi channel\n",
      "Saving to E:/data/nieuwkoopse_plassen\\20210423_111111_SV1-04_SV_RD_11bit_RGBI_50cm_Nieuwkoop_Nieuwkoopse_Plassen_De_Haeck_cropped_ndwi_ndvi.tif\n",
      "E:/data/nieuwkoopse_plassen\\20211129_103911_SV1-01_SV_RD_11bit_RGBI_50cm_Mijdrecht_Nieuwkoopse_Plassen_De_Haeck_cropped.tif\n",
      "Generating NDWI channel...\n",
      "Done with calculating ndwi channel\n",
      "Saving to E:/data/nieuwkoopse_plassen\\20211129_103911_SV1-01_SV_RD_11bit_RGBI_50cm_Mijdrecht_Nieuwkoopse_Plassen_De_Haeck_cropped_ndwi.tif\n",
      "Generating NDVI channel...\n",
      "Done with calculating ndvi channel\n",
      "Saving to E:/data/nieuwkoopse_plassen\\20211129_103911_SV1-01_SV_RD_11bit_RGBI_50cm_Mijdrecht_Nieuwkoopse_Plassen_De_Haeck_cropped_ndwi_ndvi.tif\n",
      "E:/data/nieuwkoopse_plassen\\20220318_114608_SV1-02_SV_RD_11bit_RGBI_50cm_Bodegraven_Nieuwkoopse_Plassen_De_Haeck_cropped.tif\n",
      "Generating NDWI channel...\n",
      "Done with calculating ndwi channel\n",
      "Saving to E:/data/nieuwkoopse_plassen\\20220318_114608_SV1-02_SV_RD_11bit_RGBI_50cm_Bodegraven_Nieuwkoopse_Plassen_De_Haeck_cropped_ndwi.tif\n",
      "Generating NDVI channel...\n",
      "Done with calculating ndvi channel\n",
      "Saving to E:/data/nieuwkoopse_plassen\\20220318_114608_SV1-02_SV_RD_11bit_RGBI_50cm_Bodegraven_Nieuwkoopse_Plassen_De_Haeck_cropped_ndwi_ndvi.tif\n",
      "E:/data/nieuwkoopse_plassen\\20220803_105908_SV2-01_SV_RD_11bit_RGBI_50cm_Boskoop_Nieuwkoopse_Plassen_De_Haeck_cropped.tif\n",
      "Generating NDWI channel...\n",
      "Done with calculating ndwi channel\n",
      "Saving to E:/data/nieuwkoopse_plassen\\20220803_105908_SV2-01_SV_RD_11bit_RGBI_50cm_Boskoop_Nieuwkoopse_Plassen_De_Haeck_cropped_ndwi.tif\n",
      "Generating NDVI channel...\n",
      "Done with calculating ndvi channel\n",
      "Saving to E:/data/nieuwkoopse_plassen\\20220803_105908_SV2-01_SV_RD_11bit_RGBI_50cm_Boskoop_Nieuwkoopse_Plassen_De_Haeck_cropped_ndwi_ndvi.tif\n",
      "E:/data/nieuwkoopse_plassen\\20220811_110734_SV1-04_SV_RD_11bit_RGBI_50cm_Mijdrecht_Nieuwkoopse_Plassen_De_Haeck_cropped.tif\n",
      "Generating NDWI channel...\n",
      "Done with calculating ndwi channel\n",
      "Saving to E:/data/nieuwkoopse_plassen\\20220811_110734_SV1-04_SV_RD_11bit_RGBI_50cm_Mijdrecht_Nieuwkoopse_Plassen_De_Haeck_cropped_ndwi.tif\n",
      "Generating NDVI channel...\n",
      "Done with calculating ndvi channel\n",
      "Saving to E:/data/nieuwkoopse_plassen\\20220811_110734_SV1-04_SV_RD_11bit_RGBI_50cm_Mijdrecht_Nieuwkoopse_Plassen_De_Haeck_cropped_ndwi_ndvi.tif\n",
      "E:/data/nieuwkoopse_plassen\\20221012_104900_SV2-01_SV_RD_11bit_RGBI_50cm_Nieuwveen_Nieuwkoopse_Plassen_De_Haeck_cropped.tif\n",
      "Generating NDWI channel...\n",
      "Done with calculating ndwi channel\n",
      "Saving to E:/data/nieuwkoopse_plassen\\20221012_104900_SV2-01_SV_RD_11bit_RGBI_50cm_Nieuwveen_Nieuwkoopse_Plassen_De_Haeck_cropped_ndwi.tif\n",
      "Generating NDVI channel...\n",
      "Done with calculating ndvi channel\n",
      "Saving to E:/data/nieuwkoopse_plassen\\20221012_104900_SV2-01_SV_RD_11bit_RGBI_50cm_Nieuwveen_Nieuwkoopse_Plassen_De_Haeck_cropped_ndwi_ndvi.tif\n",
      "E:/data/nieuwkoopse_plassen\\20221012_104902_SV2-01_SV_RD_11bit_RGBI_50cm_Bodegraven_Nieuwkoopse_Plassen_De_Haeck_cropped.tif\n",
      "Generating NDWI channel...\n",
      "Done with calculating ndwi channel\n",
      "Saving to E:/data/nieuwkoopse_plassen\\20221012_104902_SV2-01_SV_RD_11bit_RGBI_50cm_Bodegraven_Nieuwkoopse_Plassen_De_Haeck_cropped_ndwi.tif\n",
      "Generating NDVI channel...\n",
      "Done with calculating ndvi channel\n",
      "Saving to E:/data/nieuwkoopse_plassen\\20221012_104902_SV2-01_SV_RD_11bit_RGBI_50cm_Bodegraven_Nieuwkoopse_Plassen_De_Haeck_cropped_ndwi_ndvi.tif\n"
     ]
    }
   ],
   "source": [
    "# For Superview Satellites\n",
    "for afile in glob.glob(directory_regex):\n",
    "    print(afile)\n",
    "    file_saved = nso_manipulator.add_index_channels(afile, [\"ndwi\"])\n",
    "    nso_manipulator.add_index_channels(file_saved, [\"ndvi\"])"
   ]
  }
 ],
 "metadata": {
  "kernelspec": {
   "display_name": "Python 3",
   "language": "python",
   "name": "python3"
  },
  "language_info": {
   "codemirror_mode": {
    "name": "ipython",
    "version": 3
   },
   "file_extension": ".py",
   "mimetype": "text/x-python",
   "name": "python",
   "nbconvert_exporter": "python",
   "pygments_lexer": "ipython3",
   "version": "3.12.1"
  }
 },
 "nbformat": 4,
 "nbformat_minor": 2
}
