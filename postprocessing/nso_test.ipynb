{
 "cells": [
  {
   "cell_type": "code",
   "execution_count": 1,
   "metadata": {},
   "outputs": [],
   "source": [
    "import satellite_images_nso.api.nso_georegion as nso"
   ]
  },
  {
   "cell_type": "code",
   "execution_count": 2,
   "metadata": {},
   "outputs": [
    {
     "name": "stdout",
     "output_type": "stream",
     "text": [
      "Merging: E:/data/test/20230421_110811_PNEO-04_1_1_30cm_RD_8bit_RGB_Oostvoorne_fill_region_cropped.tif and E:/data/test/20230606_105315_PNEO-04_1_1_30cm_RD_8bit_RGB_DeLier_natura2000_solleveld_kapittelduinen_cropped.tif\n"
     ]
    }
   ],
   "source": [
    "nso.merge_tifs([\"E:/data/test/20230421_110811_PNEO-04_1_1_30cm_RD_8bit_RGB_Oostvoorne_fill_region_cropped.tif\",\"E:/data/test/20230606_105315_PNEO-04_1_1_30cm_RD_8bit_RGB_DeLier_natura2000_solleveld_kapittelduinen_cropped.tif\"],\"E:/data/test/test_merge.tif\")"
   ]
  }
 ],
 "metadata": {
  "kernelspec": {
   "display_name": "Python 3",
   "language": "python",
   "name": "python3"
  },
  "language_info": {
   "codemirror_mode": {
    "name": "ipython",
    "version": 3
   },
   "file_extension": ".py",
   "mimetype": "text/x-python",
   "name": "python",
   "nbconvert_exporter": "python",
   "pygments_lexer": "ipython3",
   "version": "3.12.1"
  }
 },
 "nbformat": 4,
 "nbformat_minor": 2
}
