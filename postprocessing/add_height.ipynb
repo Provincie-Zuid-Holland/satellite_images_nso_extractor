{
 "cells": [
  {
   "cell_type": "markdown",
   "metadata": {},
   "source": [
    "# Add Height\n",
    "\n",
    "If height has not yet been added to a raster file, it adds it here"
   ]
  },
  {
   "cell_type": "code",
   "execution_count": null,
   "metadata": {},
   "outputs": [],
   "source": [
    "import glob\n",
    "import satellite_images_nso._manipulation.nso_manipulator as nso_manipulator\n",
    "import add_height_settings\n",
    "\n",
    "# Set variables\n",
    "ahn_height_filepath = add_height_settings.ahn_height_filepath\n",
    "filepath_regex = add_height_settings.filepath_regex \n",
    "\n",
    "# Add height to files in filepath_regex\n",
    "for file in glob.glob(filepath_regex):\n",
    "    print(file)\n",
    "    cropped_path = nso_manipulator.add_height(file, ahn_height_filepath)\n"
   ]
  }
 ],
 "metadata": {
  "language_info": {
   "name": "python"
  }
 },
 "nbformat": 4,
 "nbformat_minor": 2
}
