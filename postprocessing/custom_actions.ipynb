{
 "cells": [
  {
   "cell_type": "code",
   "execution_count": 34,
   "metadata": {},
   "outputs": [],
   "source": [
    "import geopandas as gpd"
   ]
  },
  {
   "cell_type": "code",
   "execution_count": 40,
   "metadata": {},
   "outputs": [],
   "source": [
    "gdf = gpd.read_file(\"C:/repos/satellite-images-nso/input_data/Voornes Duin_diss_sing_wgs84.geojson\")"
   ]
  },
  {
   "cell_type": "code",
   "execution_count": 41,
   "metadata": {},
   "outputs": [
    {
     "data": {
      "text/html": [
       "<div>\n",
       "<style scoped>\n",
       "    .dataframe tbody tr th:only-of-type {\n",
       "        vertical-align: middle;\n",
       "    }\n",
       "\n",
       "    .dataframe tbody tr th {\n",
       "        vertical-align: top;\n",
       "    }\n",
       "\n",
       "    .dataframe thead th {\n",
       "        text-align: right;\n",
       "    }\n",
       "</style>\n",
       "<table border=\"1\" class=\"dataframe\">\n",
       "  <thead>\n",
       "    <tr style=\"text-align: right;\">\n",
       "      <th></th>\n",
       "      <th>gml_parent</th>\n",
       "      <th>gml_pare_1</th>\n",
       "      <th>gml_id</th>\n",
       "      <th>geom</th>\n",
       "      <th>naam_n2k</th>\n",
       "      <th>vhn_new</th>\n",
       "      <th>nr</th>\n",
       "      <th>beschermin</th>\n",
       "      <th>sitecode_v</th>\n",
       "      <th>sitecode_h</th>\n",
       "      <th>status</th>\n",
       "      <th>kadaster</th>\n",
       "      <th>staatscour</th>\n",
       "      <th>geometry</th>\n",
       "    </tr>\n",
       "  </thead>\n",
       "  <tbody>\n",
       "    <tr>\n",
       "      <th>0</th>\n",
       "      <td>None</td>\n",
       "      <td>member</td>\n",
       "      <td>natura2000.176</td>\n",
       "      <td>None</td>\n",
       "      <td>Voornes Duin</td>\n",
       "      <td>2</td>\n",
       "      <td>100</td>\n",
       "      <td>HR</td>\n",
       "      <td>None</td>\n",
       "      <td>NL9803077</td>\n",
       "      <td>Natura 2000-besluit 2008</td>\n",
       "      <td>OZ4 57922/143</td>\n",
       "      <td>2010/2236</td>\n",
       "      <td>POLYGON ((4.09474 51.83066, 4.09337 51.82977, ...</td>\n",
       "    </tr>\n",
       "    <tr>\n",
       "      <th>1</th>\n",
       "      <td>None</td>\n",
       "      <td>member</td>\n",
       "      <td>natura2000.176</td>\n",
       "      <td>None</td>\n",
       "      <td>Voornes Duin</td>\n",
       "      <td>2</td>\n",
       "      <td>100</td>\n",
       "      <td>HR</td>\n",
       "      <td>None</td>\n",
       "      <td>NL9803077</td>\n",
       "      <td>Natura 2000-besluit 2008</td>\n",
       "      <td>OZ4 57922/143</td>\n",
       "      <td>2010/2236</td>\n",
       "      <td>POLYGON ((4.07848 51.84581, 4.07768 51.84564, ...</td>\n",
       "    </tr>\n",
       "  </tbody>\n",
       "</table>\n",
       "</div>"
      ],
      "text/plain": [
       "  gml_parent gml_pare_1          gml_id  geom      naam_n2k  vhn_new   nr  \\\n",
       "0       None     member  natura2000.176  None  Voornes Duin        2  100   \n",
       "1       None     member  natura2000.176  None  Voornes Duin        2  100   \n",
       "\n",
       "  beschermin sitecode_v sitecode_h                    status       kadaster  \\\n",
       "0         HR       None  NL9803077  Natura 2000-besluit 2008  OZ4 57922/143   \n",
       "1         HR       None  NL9803077  Natura 2000-besluit 2008  OZ4 57922/143   \n",
       "\n",
       "  staatscour                                           geometry  \n",
       "0  2010/2236  POLYGON ((4.09474 51.83066, 4.09337 51.82977, ...  \n",
       "1  2010/2236  POLYGON ((4.07848 51.84581, 4.07768 51.84564, ...  "
      ]
     },
     "execution_count": 41,
     "metadata": {},
     "output_type": "execute_result"
    }
   ],
   "source": [
    "gdf"
   ]
  },
  {
   "cell_type": "code",
   "execution_count": 45,
   "metadata": {},
   "outputs": [
    {
     "data": {
      "image/svg+xml": [
       "<svg xmlns=\"http://www.w3.org/2000/svg\" xmlns:xlink=\"http://www.w3.org/1999/xlink\" width=\"100.0\" height=\"100.0\" viewBox=\"4.027523920874688 51.825852266770845 0.07887626979155993 0.1057799235213821\" preserveAspectRatio=\"xMinYMin meet\"><g transform=\"matrix(1,0,0,-1,0,103.75748445706307)\"><path fill-rule=\"evenodd\" fill=\"#66cc99\" stroke=\"#555555\" stroke-width=\"0.002115598470427642\" opacity=\"0.6\" d=\"M 4.093366837244824,51.82977004171608 L 4.091556250566165,51.83061738956902 L 4.09036559430654,51.83124444940334 L 4.090088115115445,51.83141358469095 L 4.089396552875879,51.83185821500525 L 4.086905784142684,51.83359424455453 L 4.070278654967999,51.845333252024616 L 4.07020769666177,51.84539454007541 L 4.0330273276407,51.88433945998219 L 4.032296103416207,51.885261136642995 L 4.031739504609939,51.88640280387656 L 4.031539817405052,51.88714645392986 L 4.031466487418668,51.88781477122819 L 4.031441695819924,51.888637228509836 L 4.031606894478562,51.88962642701836 L 4.038207794575962,51.92593587319526 L 4.040002355532422,51.926517589149704 L 4.04025911338312,51.92658991674602 L 4.040364464311446,51.926609104423804 L 4.046401815570731,51.927538013224435 L 4.098092774419969,51.92771441534699 L 4.100937338461286,51.92475308827179 L 4.101294931258712,51.92434305820653 L 4.101691627874366,51.923888181460896 L 4.102002542253802,51.923531656782686 L 4.102283827366939,51.92320910486412 L 4.102482415721012,51.922910156590696 L 4.102191491799529,51.91627157675657 L 4.095013848684687,51.830840063984006 L 4.093366837244824,51.82977004171608 z\" /></g></svg>"
      ],
      "text/plain": [
       "<POLYGON ((4.093 51.83, 4.092 51.831, 4.09 51.831, 4.09 51.831, 4.089 51.832...>"
      ]
     },
     "execution_count": 45,
     "metadata": {},
     "output_type": "execute_result"
    }
   ],
   "source": [
    "gdf.unary_union.convex_hull"
   ]
  },
  {
   "cell_type": "code",
   "execution_count": 43,
   "metadata": {},
   "outputs": [
    {
     "data": {
      "text/plain": [
       "<Axes: >"
      ]
     },
     "execution_count": 43,
     "metadata": {},
     "output_type": "execute_result"
    },
    {
     "data": {
      "image/png": "[encoded data removed]",
      "text/plain": [
       "<Figure size 640x480 with 1 Axes>"
      ]
     },
     "metadata": {},
     "output_type": "display_data"
    }
   ],
   "source": [
    "gpd.GeoDataFrame(geometry=[ageometry]).plot()"
   ]
  },
  {
   "cell_type": "code",
   "execution_count": 46,
   "metadata": {},
   "outputs": [],
   "source": [
    "import rasterio"
   ]
  },
  {
   "cell_type": "code",
   "execution_count": 48,
   "metadata": {},
   "outputs": [],
   "source": [
    "areader = rasterio.open(\"E:/data/coepelduynen/20190302_105726_SV1-01_50cm_RD_11bit_RGBI_Warmond_natura2000_coepelduynen_cropped.tif\")"
   ]
  },
  {
   "cell_type": "code",
   "execution_count": 49,
   "metadata": {},
   "outputs": [],
   "source": [
    "areader.close()"
   ]
  },
  {
   "cell_type": "code",
   "execution_count": 2,
   "metadata": {},
   "outputs": [
    {
     "name": "stdout",
     "output_type": "stream",
     "text": [
      "Merging: E:/data/test/20230421_110811_PNEO-04_1_1_30cm_RD_8bit_RGB_Oostvoorne_fill_region_cropped.tif and E:/data/test/20230606_105315_PNEO-04_1_1_30cm_RD_8bit_RGB_DeLier_natura2000_solleveld_kapittelduinen_cropped.tif\n"
     ]
    }
   ],
   "source": []
  }
 ],
 "metadata": {
  "kernelspec": {
   "display_name": "Python 3",
   "language": "python",
   "name": "python3"
  },
  "language_info": {
   "codemirror_mode": {
    "name": "ipython",
    "version": 3
   },
   "file_extension": ".py",
   "mimetype": "text/x-python",
   "name": "python",
   "nbconvert_exporter": "python",
   "pygments_lexer": "ipython3",
   "version": "3.12.1"
  }
 },
 "nbformat": 4,
 "nbformat_minor": 2
}
