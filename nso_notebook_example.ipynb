{
  "cells": [
    {
      "cell_type": "code",
      "execution_count": null,
      "metadata": {},
      "outputs": [],
      "source": [
        "import satellite_images_nso.api.nso_georegion as nso\n",
        "from settings import nso_username, nso_password, path_geojson, height_band_filepath, output_path, cloud_detection_model_path, links_must_contain"
      ]
    },
    {
      "cell_type": "markdown",
      "metadata": {},
      "source": [
        "# Search for satellite images in geojson and download links"
      ]
    },
    {
      "cell_type": "code",
      "execution_count": null,
      "metadata": {
        "scrolled": true
      },
      "outputs": [],
      "source": [
        "# This method fetches all the download links to all the satelliet images which contain region in the geojson\n",
        "georegion = nso.nso_georegion(\n",
        "    path_to_geojson=path_geojson, \n",
        "    output_folder=output_path,\n",
        "    username=nso_username,\n",
        "    password=nso_password,\n",
        "    cloud_detection_model_path=cloud_detection_model_path\n",
        "    )"
      ]
    },
    {
      "cell_type": "code",
      "execution_count": null,
      "metadata": {},
      "outputs": [],
      "source": [
        "links = georegion.retrieve_download_links()"
      ]
    },
    {
      "cell_type": "code",
      "execution_count": null,
      "metadata": {},
      "outputs": [],
      "source": [
        "links"
      ]
    },
    {
      "cell_type": "code",
      "execution_count": null,
      "metadata": {},
      "outputs": [],
      "source": [
        "for link in links:\n",
        "    if all([substr in link for substr in links_must_contain]):\n",
        "        print(link)"
      ]
    },
    {
      "cell_type": "markdown",
      "metadata": {},
      "source": [
        "# Download, Crop and calculate NDVI for a LandSat Image"
      ]
    },
    {
      "cell_type": "markdown",
      "metadata": {},
      "source": [
        "### For a group of images "
      ]
    },
    {
      "cell_type": "code",
      "execution_count": null,
      "metadata": {},
      "outputs": [],
      "source": [
        "# loop through and download all the 50cm resolution RGBI SuperView images\n",
        "for link in links:\n",
        "    if all([substr in link for substr in links_must_contain]):\n",
        "        print(link)\n",
        "        try:\n",
        "            georegion.execute_link(link, add_ndvi_band=True, add_height_band=height_band_filepath, cloud_detection_warning=True)\n",
        "        except Exception as e:\n",
        "            print(e)"
      ]
    },
    {
      "cell_type": "markdown",
      "metadata": {},
      "source": [
        "# Normalize LandSat image"
      ]
    },
    {
      "cell_type": "markdown",
      "metadata": {},
      "source": [
        "### Multi date relative normalisation."
      ]
    },
    {
      "cell_type": "code",
      "execution_count": null,
      "metadata": {},
      "outputs": [],
      "source": [
        "# Imports the normalisation library.\n",
        "from satellite_images_nso.__normalisation import normalisation\n",
        "\n",
        "# Path to a Superview satellite image.\n",
        "path = \"20190401_111723_SV1-04_200cm_RD_11bit_RGBI_DenHaag_solleveld_sweco_cropped.tif\"\n",
        "\n",
        "normalisation.multidate_normalisation_75th_percentile(path)"
      ]
    },
    {
      "cell_type": "markdown",
      "metadata": {},
      "source": [
        "### Black spot normalisation."
      ]
    },
    {
      "cell_type": "code",
      "execution_count": null,
      "metadata": {},
      "outputs": [],
      "source": [
        "path = \"data_satellite/20210302_111341_SV1-03_SV_RD_11bit_RGBI_200cm_Brouwersdam_Grevelingen_21_cropped.tif\""
      ]
    },
    {
      "cell_type": "code",
      "execution_count": null,
      "metadata": {},
      "outputs": [],
      "source": [
        "# The first argument here is the path to satellite image and the second is the name of the satellite image to get coefficients for, this can be filled in partially.\n",
        "normalisation.multi_date_dark_spot_normalisation(path,\"20210302\")"
      ]
    },
    {
      "cell_type": "markdown",
      "metadata": {},
      "source": [
        "# Other functionalities"
      ]
    },
    {
      "cell_type": "code",
      "execution_count": null,
      "metadata": {},
      "outputs": [],
      "source": [
        "# The sat_manipulator gives other handy transmations on satellite data.\n",
        "import satellite_images_nso.api.sat_manipulator as sat_manipulator\n",
        "\n",
        "# This function reads a .tif file, which is a format the satellite data is stored in,  and converts it to a pixel based geopandas dataframe.\n",
        "# For machine learning purposes.\n",
        "path_to_vector = \"path/to/folder/*.tif\"\n",
        "geo_df_pixel = sat_manipulator.tranform_vector_to_pixel_gpdf(path_to_vector)"
      ]
    }
  ],
  "metadata": {
    "kernelspec": {
      "display_name": "Python 3 (ipykernel)",
      "language": "python",
      "name": "python3"
    },
    "language_info": {
      "codemirror_mode": {
        "name": "ipython",
        "version": 3
      },
      "file_extension": ".py",
      "mimetype": "text/x-python",
      "name": "python",
      "nbconvert_exporter": "python",
      "pygments_lexer": "ipython3",
      "version": "3.9.13"
    },
    "vscode": {
      "interpreter": {
        "hash": "ad2bdc8ecc057115af97d19610ffacc2b4e99fae6737bb82f5d7fb13d2f2c186"
      }
    }
  },
  "nbformat": 4,
  "nbformat_minor": 4
}
