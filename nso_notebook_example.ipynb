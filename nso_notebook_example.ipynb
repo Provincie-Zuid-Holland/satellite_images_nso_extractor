{
 "cells": [
  {
   "cell_type": "code",
   "execution_count": null,
   "metadata": {},
   "outputs": [],
   "source": [
    "import satellite_images_nso_extractor.api.nso_georegion as nso\n",
    "from settings import nso_username, nso_password, path_geojson,  output_path\n",
    "# Optional\n",
    "from settings import height_band_filepath, cloud_detection_model_path, links_must_contain"
   ]
  },
  {
   "cell_type": "markdown",
   "metadata": {},
   "source": [
    "# Search for satellite images in geojson and download links"
   ]
  },
  {
   "cell_type": "code",
   "execution_count": null,
   "metadata": {},
   "outputs": [],
   "source": [
    "# Make a georegion object\n",
    "georegion = nso.nso_georegion(\n",
    "    path_to_geojson=path_geojson, \n",
    "    output_folder=output_path,\n",
    "    username=nso_username,\n",
    "    password=nso_password,\n",
    "    )"
   ]
  },
  {
   "cell_type": "code",
   "execution_count": null,
   "metadata": {},
   "outputs": [],
   "source": [
    "# This methods finds all download links of satellite images which overlap for 50% or more with region in the geojson, starting from date 2022-01-01\n",
    "links = georegion.retrieve_download_links(max_diff=0.8, start_date=\"2009-01-01\" ,cloud_coverage_whole=60)"
   ]
  },
  {
   "cell_type": "code",
   "execution_count": null,
   "metadata": {},
   "outputs": [],
   "source": [
    "links.sort_values(by='date')"
   ]
  },
  {
   "cell_type": "code",
   "execution_count": null,
   "metadata": {},
   "outputs": [],
   "source": [
    "# A example filter to use on only certain months in the years\n",
    "years = [\"2019\",\"2020\",\"2021\", \"2022\"]\n",
    "months = [\"05\",\"06\",\"07\",\"08\"]"
   ]
  },
  {
   "cell_type": "markdown",
   "metadata": {},
   "source": [
    "# PNEO data"
   ]
  },
  {
   "cell_type": "code",
   "execution_count": null,
   "metadata": {},
   "outputs": [],
   "source": [
    "# Example filter on resolution and bands\n",
    "pneo_links = links[links['resolution'] == \"30cm\"]\n",
    "pneo_links = pneo_links[pneo_links[\"link\"].str.contains(\"RGBNED\")]\n",
    "pneo_links = pneo_links.sort_values(\"percentage_geojson\")"
   ]
  },
  {
   "cell_type": "code",
   "execution_count": null,
   "metadata": {},
   "outputs": [],
   "source": [
    "for index,value in pneo_links.iterrows():\n",
    "\n",
    "    georegion.execute_link(value[\"link\"], plot=False)"
   ]
  },
  {
   "cell_type": "markdown",
   "metadata": {},
   "source": [
    "# Superview data"
   ]
  },
  {
   "cell_type": "code",
   "execution_count": null,
   "metadata": {},
   "outputs": [],
   "source": [
    "# Example filter on resolution and bands\n",
    "superview_links = links[links['resolution'] == \"50cm\"]\n",
    "superview_links = superview_links[superview_links[\"link\"].str.contains(\"RGBI\")]\n",
    "superview_links = superview_links.sort_values(\"percentage_geojson\")"
   ]
  },
  {
   "cell_type": "code",
   "execution_count": null,
   "metadata": {},
   "outputs": [],
   "source": [
    "#Returns a pandas dataframe columns with: 1.The Download Link. 2.Percentage of satellite area which covers the selected submitted georegion 3.The polygon of what is missing compared with the submitted georegion. 4.The satellite images that cover the submitted georegion\n",
    "# 5. The date when the satellite image was taken. 6. The satellite constellation. 7. The resolution of the satellite image\n",
    "superview_links"
   ]
  },
  {
   "cell_type": "code",
   "execution_count": null,
   "metadata": {},
   "outputs": [],
   "source": [
    "for index,value in superview_links[(superview_links['month'].isin(months )) & (superview_links['year'] == \"2021\")].iterrows():\n",
    "\n",
    "    \n",
    "    georegion.execute_link(value[\"link\"],delete_zip_file=True) "
   ]
  },
  {
   "cell_type": "code",
   "execution_count": null,
   "metadata": {},
   "outputs": [],
   "source": [
    "links = links.sort_values(by='date')"
   ]
  },
  {
   "cell_type": "code",
   "execution_count": null,
   "metadata": {},
   "outputs": [],
   "source": [
    "Form_links = links[links[\"link\"].str.contains(\"RGBI\")]\n",
    "Form_links = Form_links[Form_links[\"resolution\"] == \"200cm\"]"
   ]
  },
  {
   "cell_type": "code",
   "execution_count": null,
   "metadata": {},
   "outputs": [],
   "source": [
    "for index, value in Form_links.iterrows():\n",
    "    georegion.execute_link(value['link'], delete_zip_file=True)"
   ]
  }
 ],
 "metadata": {
  "kernelspec": {
   "display_name": "Python 3 (ipykernel)",
   "language": "python",
   "name": "python3"
  },
  "language_info": {
   "codemirror_mode": {
    "name": "ipython",
    "version": 3
   },
   "file_extension": ".py",
   "mimetype": "text/x-python",
   "name": "python",
   "nbconvert_exporter": "python",
   "pygments_lexer": "ipython3",
   "version": "3.12.1"
  },
  "vscode": {
   "interpreter": {
    "hash": "ad2bdc8ecc057115af97d19610ffacc2b4e99fae6737bb82f5d7fb13d2f2c186"
   }
  }
 },
 "nbformat": 4,
 "nbformat_minor": 4
}
